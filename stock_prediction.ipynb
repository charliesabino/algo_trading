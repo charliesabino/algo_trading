{
 "cells": [
  {
   "cell_type": "code",
   "execution_count": 65,
   "id": "13af20ab",
   "metadata": {
    "id": "13af20ab"
   },
   "outputs": [],
   "source": [
    "import pandas as pd\n",
    "import numpy as np\n",
    "from collections import Counter"
   ]
  },
  {
   "cell_type": "markdown",
   "id": "0f6fcbac",
   "metadata": {
    "id": "0f6fcbac"
   },
   "source": [
    "## **Stock Price Prediction**\n",
    "\n",
    "https://www.kaggle.com/datasets/cnic92/200-financial-indicators-of-us-stocks-20142018\n",
    "\n",
    "### **200+ Financial Indicators of US stocks (2014-2018)**\n",
    "(found in the 10-K filings each publicly traded company releases yearly)\n",
    "### **Main Task:**\n",
    "Algorithmic strategies for buy and hold\n",
    "####   **Target Variable :**\n",
    "\n",
    "\n",
    "1.   Price  Variation [%] Continuous Variable\n",
    "2.   Class [1: Increasing, 0: Decreasing]\n",
    "\n",
    "#### **Selected Target Variable:** \n",
    "1.   Price Variation [%]:  Continuous Variable\n",
    "#### **Algorithmic Starategy: **\n",
    "1.   Multiple Linear Regression \n",
    "2.   Regression with Polynomial Features\n",
    "\n",
    "#### **Questions:**\n",
    "1.   Why, Regression..?\n",
    "2.    Why, financial data for all five years\n",
    "#### **Reasons:**\n",
    "       1. There is no one regression model that is best for predicting or forecasting variation in stock prices. \n",
    "       2. It depends on the type of data you are working with and the specific needs of your business.\n",
    "       3. Regression analysis can handle many things. We can use regression analysis to do the following:\n",
    "\n",
    "\n",
    "    a. Model multiple independent variables\n",
    "    b. Include continuous and categorical variables\n",
    "    c. Use polynomial terms to model curvature\n",
    "    d. Assess interaction terms to determine whether the effect of one independent variable depends on the value of another variable\n",
    "\n",
    "      4.Time-series analysis: This model uses historical data to identify patterns and trends that can be used to make predictions about future events.\n"
   ]
  },
  {
   "cell_type": "code",
   "execution_count": 66,
   "id": "14dbe55a",
   "metadata": {
    "colab": {
     "base_uri": "https://localhost:8080/"
    },
    "id": "14dbe55a",
    "outputId": "b0c7a408-3ece-41a6-9fc8-6eb5f5d86655"
   },
   "outputs": [
    {
     "data": {
      "text/plain": [
       "(22077, 226)"
      ]
     },
     "execution_count": 66,
     "metadata": {},
     "output_type": "execute_result"
    }
   ],
   "source": [
    "# reading financial data for years 2014, 2015, 2016, 2017 and 2018\n",
    "y = [2014, 2015, 2016, 2017, 2018]\n",
    "df_stock = []\n",
    "for i in range(0, len(y)):\n",
    "  df = pd.read_csv((\".\" + \"/\" + str(y[i]) + \"_Financial_Data\" + \".csv\"))\n",
    "  df['Year'] = y[i]      # adding 'Year' column\n",
    "  year = df['Year']\n",
    "  df = df.drop(columns=['Year'])\n",
    "  df.insert(loc=1, column='Year', value=year)  # shifting location of 'Year' column\n",
    "  df.rename(columns = {(str(y[i]+1) + \" PRICE VAR [%]\") : 'PRICE VAR [%]'}, inplace = True)\n",
    "  df_stock.append(df)\n",
    "\n",
    "# combining (row wise) financial data for all the given years\n",
    "df_comb = pd.concat([df_stock[0], df_stock[1], df_stock[2], df_stock[3], df_stock[4]])\n",
    "df_comb.shape"
   ]
  },
  {
   "cell_type": "code",
   "execution_count": 67,
   "id": "69e874de",
   "metadata": {
    "colab": {
     "base_uri": "https://localhost:8080/"
    },
    "id": "69e874de",
    "outputId": "e93055cf-6be7-4673-a4d7-2c291a4b6a70"
   },
   "outputs": [
    {
     "data": {
      "text/plain": [
       "Unnamed: 0               object\n",
       "Year                     object\n",
       "Revenue                 float64\n",
       "Revenue Growth          float64\n",
       "Cost of Revenue         float64\n",
       "                         ...   \n",
       "R&D Expense Growth      float64\n",
       "SG&A Expenses Growth    float64\n",
       "Sector                   object\n",
       "PRICE VAR [%]           float64\n",
       "Class                     int64\n",
       "Length: 226, dtype: object"
      ]
     },
     "execution_count": 67,
     "metadata": {},
     "output_type": "execute_result"
    }
   ],
   "source": [
    "# Get current data type of columns \n",
    "## converting 'Year' to object\n",
    "df_comb['Year'] = df_comb.Year.astype(str)\n",
    "df_comb.dtypes \n"
   ]
  },
  {
   "cell_type": "code",
   "execution_count": 68,
   "id": "744efbb4",
   "metadata": {
    "colab": {
     "base_uri": "https://localhost:8080/",
     "height": 456
    },
    "id": "744efbb4",
    "outputId": "f36e2467-e93b-46b8-aa31-7a145e1d8f9f"
   },
   "outputs": [
    {
     "data": {
      "text/html": [
       "<div>\n",
       "<style scoped>\n",
       "    .dataframe tbody tr th:only-of-type {\n",
       "        vertical-align: middle;\n",
       "    }\n",
       "\n",
       "    .dataframe tbody tr th {\n",
       "        vertical-align: top;\n",
       "    }\n",
       "\n",
       "    .dataframe thead th {\n",
       "        text-align: right;\n",
       "    }\n",
       "</style>\n",
       "<table border=\"1\" class=\"dataframe\">\n",
       "  <thead>\n",
       "    <tr style=\"text-align: right;\">\n",
       "      <th></th>\n",
       "      <th>Unnamed: 0</th>\n",
       "      <th>Year</th>\n",
       "      <th>Revenue</th>\n",
       "      <th>Revenue Growth</th>\n",
       "      <th>Cost of Revenue</th>\n",
       "      <th>Gross Profit</th>\n",
       "      <th>R&amp;D Expenses</th>\n",
       "      <th>SG&amp;A Expense</th>\n",
       "      <th>Operating Expenses</th>\n",
       "      <th>Operating Income</th>\n",
       "      <th>...</th>\n",
       "      <th>Receivables growth</th>\n",
       "      <th>Inventory Growth</th>\n",
       "      <th>Asset Growth</th>\n",
       "      <th>Book Value per Share Growth</th>\n",
       "      <th>Debt Growth</th>\n",
       "      <th>R&amp;D Expense Growth</th>\n",
       "      <th>SG&amp;A Expenses Growth</th>\n",
       "      <th>Sector</th>\n",
       "      <th>PRICE VAR [%]</th>\n",
       "      <th>Class</th>\n",
       "    </tr>\n",
       "  </thead>\n",
       "  <tbody>\n",
       "    <tr>\n",
       "      <th>0</th>\n",
       "      <td>PG</td>\n",
       "      <td>2014</td>\n",
       "      <td>7.440100e+10</td>\n",
       "      <td>-0.0713</td>\n",
       "      <td>3.903000e+10</td>\n",
       "      <td>3.537100e+10</td>\n",
       "      <td>0.000000e+00</td>\n",
       "      <td>2.146100e+10</td>\n",
       "      <td>2.146100e+10</td>\n",
       "      <td>1.391000e+10</td>\n",
       "      <td>...</td>\n",
       "      <td>-0.0187</td>\n",
       "      <td>-0.0217</td>\n",
       "      <td>0.0359</td>\n",
       "      <td>0.0316</td>\n",
       "      <td>0.1228</td>\n",
       "      <td>0.0000</td>\n",
       "      <td>-0.1746</td>\n",
       "      <td>Consumer Defensive</td>\n",
       "      <td>-9.323276</td>\n",
       "      <td>0</td>\n",
       "    </tr>\n",
       "    <tr>\n",
       "      <th>1</th>\n",
       "      <td>VIPS</td>\n",
       "      <td>2014</td>\n",
       "      <td>3.734148e+09</td>\n",
       "      <td>1.1737</td>\n",
       "      <td>2.805625e+09</td>\n",
       "      <td>9.285226e+08</td>\n",
       "      <td>1.083303e+08</td>\n",
       "      <td>3.441414e+08</td>\n",
       "      <td>7.939267e+08</td>\n",
       "      <td>1.345959e+08</td>\n",
       "      <td>...</td>\n",
       "      <td>NaN</td>\n",
       "      <td>NaN</td>\n",
       "      <td>NaN</td>\n",
       "      <td>NaN</td>\n",
       "      <td>NaN</td>\n",
       "      <td>1.6484</td>\n",
       "      <td>1.7313</td>\n",
       "      <td>Consumer Defensive</td>\n",
       "      <td>-25.512193</td>\n",
       "      <td>0</td>\n",
       "    </tr>\n",
       "    <tr>\n",
       "      <th>2</th>\n",
       "      <td>KR</td>\n",
       "      <td>2014</td>\n",
       "      <td>9.837500e+10</td>\n",
       "      <td>0.0182</td>\n",
       "      <td>7.813800e+10</td>\n",
       "      <td>2.023700e+10</td>\n",
       "      <td>0.000000e+00</td>\n",
       "      <td>1.519600e+10</td>\n",
       "      <td>1.751200e+10</td>\n",
       "      <td>2.725000e+09</td>\n",
       "      <td>...</td>\n",
       "      <td>0.0618</td>\n",
       "      <td>0.0981</td>\n",
       "      <td>0.1886</td>\n",
       "      <td>0.3268</td>\n",
       "      <td>0.2738</td>\n",
       "      <td>0.0000</td>\n",
       "      <td>0.0234</td>\n",
       "      <td>Consumer Defensive</td>\n",
       "      <td>33.118297</td>\n",
       "      <td>1</td>\n",
       "    </tr>\n",
       "    <tr>\n",
       "      <th>3</th>\n",
       "      <td>RAD</td>\n",
       "      <td>2014</td>\n",
       "      <td>2.552641e+10</td>\n",
       "      <td>0.0053</td>\n",
       "      <td>1.820268e+10</td>\n",
       "      <td>7.323734e+09</td>\n",
       "      <td>0.000000e+00</td>\n",
       "      <td>6.561162e+09</td>\n",
       "      <td>6.586482e+09</td>\n",
       "      <td>7.372520e+08</td>\n",
       "      <td>...</td>\n",
       "      <td>0.0211</td>\n",
       "      <td>-0.0510</td>\n",
       "      <td>-0.0189</td>\n",
       "      <td>0.1963</td>\n",
       "      <td>-0.0458</td>\n",
       "      <td>0.0000</td>\n",
       "      <td>-0.0060</td>\n",
       "      <td>Consumer Defensive</td>\n",
       "      <td>2.752291</td>\n",
       "      <td>1</td>\n",
       "    </tr>\n",
       "    <tr>\n",
       "      <th>4</th>\n",
       "      <td>GIS</td>\n",
       "      <td>2014</td>\n",
       "      <td>1.790960e+10</td>\n",
       "      <td>0.0076</td>\n",
       "      <td>1.153980e+10</td>\n",
       "      <td>6.369800e+09</td>\n",
       "      <td>0.000000e+00</td>\n",
       "      <td>3.474300e+09</td>\n",
       "      <td>3.412400e+09</td>\n",
       "      <td>2.957400e+09</td>\n",
       "      <td>...</td>\n",
       "      <td>0.0257</td>\n",
       "      <td>0.0090</td>\n",
       "      <td>0.0215</td>\n",
       "      <td>0.0274</td>\n",
       "      <td>0.1025</td>\n",
       "      <td>0.0000</td>\n",
       "      <td>-0.0220</td>\n",
       "      <td>Consumer Defensive</td>\n",
       "      <td>12.897715</td>\n",
       "      <td>1</td>\n",
       "    </tr>\n",
       "  </tbody>\n",
       "</table>\n",
       "<p>5 rows × 226 columns</p>\n",
       "</div>"
      ],
      "text/plain": [
       "  Unnamed: 0  Year       Revenue  Revenue Growth  Cost of Revenue  \\\n",
       "0         PG  2014  7.440100e+10         -0.0713     3.903000e+10   \n",
       "1       VIPS  2014  3.734148e+09          1.1737     2.805625e+09   \n",
       "2         KR  2014  9.837500e+10          0.0182     7.813800e+10   \n",
       "3        RAD  2014  2.552641e+10          0.0053     1.820268e+10   \n",
       "4        GIS  2014  1.790960e+10          0.0076     1.153980e+10   \n",
       "\n",
       "   Gross Profit  R&D Expenses  SG&A Expense  Operating Expenses  \\\n",
       "0  3.537100e+10  0.000000e+00  2.146100e+10        2.146100e+10   \n",
       "1  9.285226e+08  1.083303e+08  3.441414e+08        7.939267e+08   \n",
       "2  2.023700e+10  0.000000e+00  1.519600e+10        1.751200e+10   \n",
       "3  7.323734e+09  0.000000e+00  6.561162e+09        6.586482e+09   \n",
       "4  6.369800e+09  0.000000e+00  3.474300e+09        3.412400e+09   \n",
       "\n",
       "   Operating Income  ...  Receivables growth  Inventory Growth  Asset Growth  \\\n",
       "0      1.391000e+10  ...             -0.0187           -0.0217        0.0359   \n",
       "1      1.345959e+08  ...                 NaN               NaN           NaN   \n",
       "2      2.725000e+09  ...              0.0618            0.0981        0.1886   \n",
       "3      7.372520e+08  ...              0.0211           -0.0510       -0.0189   \n",
       "4      2.957400e+09  ...              0.0257            0.0090        0.0215   \n",
       "\n",
       "   Book Value per Share Growth  Debt Growth  R&D Expense Growth  \\\n",
       "0                       0.0316       0.1228              0.0000   \n",
       "1                          NaN          NaN              1.6484   \n",
       "2                       0.3268       0.2738              0.0000   \n",
       "3                       0.1963      -0.0458              0.0000   \n",
       "4                       0.0274       0.1025              0.0000   \n",
       "\n",
       "   SG&A Expenses Growth              Sector  PRICE VAR [%]  Class  \n",
       "0               -0.1746  Consumer Defensive      -9.323276      0  \n",
       "1                1.7313  Consumer Defensive     -25.512193      0  \n",
       "2                0.0234  Consumer Defensive      33.118297      1  \n",
       "3               -0.0060  Consumer Defensive       2.752291      1  \n",
       "4               -0.0220  Consumer Defensive      12.897715      1  \n",
       "\n",
       "[5 rows x 226 columns]"
      ]
     },
     "execution_count": 68,
     "metadata": {},
     "output_type": "execute_result"
    }
   ],
   "source": [
    "df_comb.head()"
   ]
  },
  {
   "cell_type": "code",
   "execution_count": 69,
   "id": "b7ab1b57",
   "metadata": {
    "colab": {
     "base_uri": "https://localhost:8080/",
     "height": 421
    },
    "id": "b7ab1b57",
    "outputId": "a5c37018-21fa-43a2-a914-338581dc9591"
   },
   "outputs": [
    {
     "data": {
      "text/html": [
       "<div>\n",
       "<style scoped>\n",
       "    .dataframe tbody tr th:only-of-type {\n",
       "        vertical-align: middle;\n",
       "    }\n",
       "\n",
       "    .dataframe tbody tr th {\n",
       "        vertical-align: top;\n",
       "    }\n",
       "\n",
       "    .dataframe thead th {\n",
       "        text-align: right;\n",
       "    }\n",
       "</style>\n",
       "<table border=\"1\" class=\"dataframe\">\n",
       "  <thead>\n",
       "    <tr style=\"text-align: right;\">\n",
       "      <th></th>\n",
       "      <th>Unnamed: 0</th>\n",
       "      <th>Year</th>\n",
       "      <th>Revenue</th>\n",
       "      <th>Revenue Growth</th>\n",
       "      <th>Cost of Revenue</th>\n",
       "      <th>Gross Profit</th>\n",
       "      <th>R&amp;D Expenses</th>\n",
       "      <th>SG&amp;A Expense</th>\n",
       "      <th>Operating Expenses</th>\n",
       "      <th>Operating Income</th>\n",
       "      <th>...</th>\n",
       "      <th>Receivables growth</th>\n",
       "      <th>Inventory Growth</th>\n",
       "      <th>Asset Growth</th>\n",
       "      <th>Book Value per Share Growth</th>\n",
       "      <th>Debt Growth</th>\n",
       "      <th>R&amp;D Expense Growth</th>\n",
       "      <th>SG&amp;A Expenses Growth</th>\n",
       "      <th>Sector</th>\n",
       "      <th>PRICE VAR [%]</th>\n",
       "      <th>Class</th>\n",
       "    </tr>\n",
       "  </thead>\n",
       "  <tbody>\n",
       "    <tr>\n",
       "      <th>4387</th>\n",
       "      <td>YRIV</td>\n",
       "      <td>2018</td>\n",
       "      <td>0.0</td>\n",
       "      <td>0.0000</td>\n",
       "      <td>0.0</td>\n",
       "      <td>0.0</td>\n",
       "      <td>0.0</td>\n",
       "      <td>3755251.0</td>\n",
       "      <td>3755251.0</td>\n",
       "      <td>-3755251.0</td>\n",
       "      <td>...</td>\n",
       "      <td>0.0000</td>\n",
       "      <td>0.0000</td>\n",
       "      <td>-0.0508</td>\n",
       "      <td>-0.1409</td>\n",
       "      <td>-0.0152</td>\n",
       "      <td>0.0000</td>\n",
       "      <td>-0.2602</td>\n",
       "      <td>Real Estate</td>\n",
       "      <td>-90.962099</td>\n",
       "      <td>0</td>\n",
       "    </tr>\n",
       "    <tr>\n",
       "      <th>4388</th>\n",
       "      <td>YTEN</td>\n",
       "      <td>2018</td>\n",
       "      <td>556000.0</td>\n",
       "      <td>-0.4110</td>\n",
       "      <td>0.0</td>\n",
       "      <td>556000.0</td>\n",
       "      <td>4759000.0</td>\n",
       "      <td>5071000.0</td>\n",
       "      <td>9830000.0</td>\n",
       "      <td>-9274000.0</td>\n",
       "      <td>...</td>\n",
       "      <td>0.3445</td>\n",
       "      <td>0.0000</td>\n",
       "      <td>-0.2323</td>\n",
       "      <td>-0.8602</td>\n",
       "      <td>0.0000</td>\n",
       "      <td>0.0352</td>\n",
       "      <td>-0.0993</td>\n",
       "      <td>Basic Materials</td>\n",
       "      <td>-77.922077</td>\n",
       "      <td>0</td>\n",
       "    </tr>\n",
       "    <tr>\n",
       "      <th>4389</th>\n",
       "      <td>ZKIN</td>\n",
       "      <td>2018</td>\n",
       "      <td>54884381.0</td>\n",
       "      <td>0.2210</td>\n",
       "      <td>36593792.0</td>\n",
       "      <td>18290589.0</td>\n",
       "      <td>1652633.0</td>\n",
       "      <td>7020320.0</td>\n",
       "      <td>8672953.0</td>\n",
       "      <td>9617636.0</td>\n",
       "      <td>...</td>\n",
       "      <td>0.1605</td>\n",
       "      <td>0.7706</td>\n",
       "      <td>0.2489</td>\n",
       "      <td>0.4074</td>\n",
       "      <td>-0.0968</td>\n",
       "      <td>0.2415</td>\n",
       "      <td>0.8987</td>\n",
       "      <td>Basic Materials</td>\n",
       "      <td>-17.834400</td>\n",
       "      <td>0</td>\n",
       "    </tr>\n",
       "    <tr>\n",
       "      <th>4390</th>\n",
       "      <td>ZOM</td>\n",
       "      <td>2018</td>\n",
       "      <td>0.0</td>\n",
       "      <td>0.0000</td>\n",
       "      <td>0.0</td>\n",
       "      <td>0.0</td>\n",
       "      <td>10317153.0</td>\n",
       "      <td>4521349.0</td>\n",
       "      <td>16648628.0</td>\n",
       "      <td>-16648628.0</td>\n",
       "      <td>...</td>\n",
       "      <td>0.8980</td>\n",
       "      <td>0.0000</td>\n",
       "      <td>0.1568</td>\n",
       "      <td>-0.2200</td>\n",
       "      <td>0.0000</td>\n",
       "      <td>2.7499</td>\n",
       "      <td>0.1457</td>\n",
       "      <td>Industrials</td>\n",
       "      <td>-73.520000</td>\n",
       "      <td>0</td>\n",
       "    </tr>\n",
       "    <tr>\n",
       "      <th>4391</th>\n",
       "      <td>ZYME</td>\n",
       "      <td>2018</td>\n",
       "      <td>53019000.0</td>\n",
       "      <td>0.0243</td>\n",
       "      <td>0.0</td>\n",
       "      <td>53019000.0</td>\n",
       "      <td>56684000.0</td>\n",
       "      <td>29457000.0</td>\n",
       "      <td>86146000.0</td>\n",
       "      <td>-33127000.0</td>\n",
       "      <td>...</td>\n",
       "      <td>-0.4185</td>\n",
       "      <td>0.0000</td>\n",
       "      <td>0.8519</td>\n",
       "      <td>0.1325</td>\n",
       "      <td>0.0000</td>\n",
       "      <td>0.3577</td>\n",
       "      <td>0.5880</td>\n",
       "      <td>Healthcare</td>\n",
       "      <td>209.462222</td>\n",
       "      <td>1</td>\n",
       "    </tr>\n",
       "  </tbody>\n",
       "</table>\n",
       "<p>5 rows × 226 columns</p>\n",
       "</div>"
      ],
      "text/plain": [
       "     Unnamed: 0  Year     Revenue  Revenue Growth  Cost of Revenue  \\\n",
       "4387       YRIV  2018         0.0          0.0000              0.0   \n",
       "4388       YTEN  2018    556000.0         -0.4110              0.0   \n",
       "4389       ZKIN  2018  54884381.0          0.2210       36593792.0   \n",
       "4390        ZOM  2018         0.0          0.0000              0.0   \n",
       "4391       ZYME  2018  53019000.0          0.0243              0.0   \n",
       "\n",
       "      Gross Profit  R&D Expenses  SG&A Expense  Operating Expenses  \\\n",
       "4387           0.0           0.0     3755251.0           3755251.0   \n",
       "4388      556000.0     4759000.0     5071000.0           9830000.0   \n",
       "4389    18290589.0     1652633.0     7020320.0           8672953.0   \n",
       "4390           0.0    10317153.0     4521349.0          16648628.0   \n",
       "4391    53019000.0    56684000.0    29457000.0          86146000.0   \n",
       "\n",
       "      Operating Income  ...  Receivables growth  Inventory Growth  \\\n",
       "4387        -3755251.0  ...              0.0000            0.0000   \n",
       "4388        -9274000.0  ...              0.3445            0.0000   \n",
       "4389         9617636.0  ...              0.1605            0.7706   \n",
       "4390       -16648628.0  ...              0.8980            0.0000   \n",
       "4391       -33127000.0  ...             -0.4185            0.0000   \n",
       "\n",
       "      Asset Growth  Book Value per Share Growth  Debt Growth  \\\n",
       "4387       -0.0508                      -0.1409      -0.0152   \n",
       "4388       -0.2323                      -0.8602       0.0000   \n",
       "4389        0.2489                       0.4074      -0.0968   \n",
       "4390        0.1568                      -0.2200       0.0000   \n",
       "4391        0.8519                       0.1325       0.0000   \n",
       "\n",
       "      R&D Expense Growth  SG&A Expenses Growth           Sector  \\\n",
       "4387              0.0000               -0.2602      Real Estate   \n",
       "4388              0.0352               -0.0993  Basic Materials   \n",
       "4389              0.2415                0.8987  Basic Materials   \n",
       "4390              2.7499                0.1457      Industrials   \n",
       "4391              0.3577                0.5880       Healthcare   \n",
       "\n",
       "      PRICE VAR [%]  Class  \n",
       "4387     -90.962099      0  \n",
       "4388     -77.922077      0  \n",
       "4389     -17.834400      0  \n",
       "4390     -73.520000      0  \n",
       "4391     209.462222      1  \n",
       "\n",
       "[5 rows x 226 columns]"
      ]
     },
     "execution_count": 69,
     "metadata": {},
     "output_type": "execute_result"
    }
   ],
   "source": [
    "df_comb.tail()"
   ]
  },
  {
   "cell_type": "code",
   "execution_count": 70,
   "id": "d021f114",
   "metadata": {
    "id": "d021f114"
   },
   "outputs": [],
   "source": [
    "# target: 2019 PRICE VAR, drop the \"Class\" column\n",
    "# drop the \"Unnamed: 0\" column\n",
    "cols = ['Unnamed: 0','Class']\n",
    "df1_comb = df_comb.drop(cols, axis =1)"
   ]
  },
  {
   "cell_type": "code",
   "execution_count": 71,
   "id": "6119ebcf",
   "metadata": {
    "colab": {
     "base_uri": "https://localhost:8080/"
    },
    "id": "6119ebcf",
    "outputId": "3bf1f0ac-5384-4c54-f4f5-1c0d279befc7"
   },
   "outputs": [
    {
     "name": "stdout",
     "output_type": "stream",
     "text": [
      "<class 'pandas.core.frame.DataFrame'>\n",
      "Int64Index: 22077 entries, 0 to 4391\n",
      "Columns: 224 entries, Year to PRICE VAR [%]\n",
      "dtypes: float64(222), object(2)\n",
      "memory usage: 37.9+ MB\n"
     ]
    }
   ],
   "source": [
    "df1_comb.info()"
   ]
  },
  {
   "cell_type": "code",
   "execution_count": 72,
   "id": "4a710120",
   "metadata": {
    "colab": {
     "base_uri": "https://localhost:8080/"
    },
    "id": "4a710120",
    "outputId": "cb2b1578-ae32-4ff0-dee4-e6549c0fa9d6"
   },
   "outputs": [
    {
     "data": {
      "text/plain": [
       "Index(['Year', 'Revenue', 'Revenue Growth', 'Cost of Revenue', 'Gross Profit',\n",
       "       'R&D Expenses', 'SG&A Expense', 'Operating Expenses',\n",
       "       'Operating Income', 'Interest Expense',\n",
       "       ...\n",
       "       '3Y Dividend per Share Growth (per Share)', 'Receivables growth',\n",
       "       'Inventory Growth', 'Asset Growth', 'Book Value per Share Growth',\n",
       "       'Debt Growth', 'R&D Expense Growth', 'SG&A Expenses Growth', 'Sector',\n",
       "       'PRICE VAR [%]'],\n",
       "      dtype='object', length=224)"
      ]
     },
     "execution_count": 72,
     "metadata": {},
     "output_type": "execute_result"
    }
   ],
   "source": [
    "df1_comb.columns"
   ]
  },
  {
   "cell_type": "code",
   "execution_count": 73,
   "id": "ca0c449e",
   "metadata": {
    "colab": {
     "base_uri": "https://localhost:8080/"
    },
    "id": "ca0c449e",
    "outputId": "69fbea24-f063-4eaf-c634-d301fa42e615"
   },
   "outputs": [
    {
     "data": {
      "text/plain": [
       "Year                       0\n",
       "Revenue                 1171\n",
       "Revenue Growth          2088\n",
       "Cost of Revenue         1771\n",
       "Gross Profit            1207\n",
       "                        ... \n",
       "Debt Growth             2615\n",
       "R&D Expense Growth      2479\n",
       "SG&A Expenses Growth    2422\n",
       "Sector                     0\n",
       "PRICE VAR [%]              0\n",
       "Length: 224, dtype: int64"
      ]
     },
     "execution_count": 73,
     "metadata": {},
     "output_type": "execute_result"
    }
   ],
   "source": [
    "#check if there are missing values \n",
    "a = df1_comb.isna().sum(axis=0) # isnull\n",
    "a "
   ]
  },
  {
   "cell_type": "code",
   "execution_count": 74,
   "id": "83b8e221",
   "metadata": {
    "colab": {
     "base_uri": "https://localhost:8080/"
    },
    "id": "83b8e221",
    "outputId": "496cf481-b86c-408f-b707-1f522efd4d2f"
   },
   "outputs": [
    {
     "data": {
      "text/plain": [
       "operatingCycle                                22058\n",
       "cashConversionCycle                           22058\n",
       "shortTermCoverageRatios                       10744\n",
       "10Y Shareholders Equity Growth (per Share)     9680\n",
       "10Y Revenue Growth (per Share)                 9532\n",
       "                                              ...  \n",
       "Net cash flow / Change in cash                 1018\n",
       "Financing Cash Flow                             972\n",
       "Year                                              0\n",
       "Sector                                            0\n",
       "PRICE VAR [%]                                     0\n",
       "Length: 224, dtype: int64"
      ]
     },
     "execution_count": 74,
     "metadata": {},
     "output_type": "execute_result"
    }
   ],
   "source": [
    "#displaying columns having missing values in descending order\n",
    "result = np.argsort(-1*a)\n",
    "a[result]"
   ]
  },
  {
   "cell_type": "code",
   "execution_count": 75,
   "id": "60d228fb",
   "metadata": {
    "id": "60d228fb"
   },
   "outputs": [],
   "source": [
    "# dropping columns having missing values more than 80 % of total values in those columns\n",
    "for col in df1_comb.columns: \n",
    "    if sum(df1_comb[col].isnull())/float(len(df1_comb.index)) > 0.80: \n",
    "        del df1_comb[col]"
   ]
  },
  {
   "cell_type": "code",
   "execution_count": 76,
   "id": "dAikXrrfcHSk",
   "metadata": {
    "id": "dAikXrrfcHSk"
   },
   "outputs": [],
   "source": [
    "# imputing missing values with median for rest of missing values\n",
    "for col in df1_comb.columns:\n",
    "    if sum(df1_comb[col].isnull()) > 0:\n",
    "       df1_comb[col].fillna(df1_comb[col].median(), inplace=True)"
   ]
  },
  {
   "cell_type": "code",
   "execution_count": 77,
   "id": "fe7b4a2f",
   "metadata": {
    "colab": {
     "base_uri": "https://localhost:8080/"
    },
    "id": "fe7b4a2f",
    "outputId": "6d872664-270d-4103-b4e2-bc0cd88c005b"
   },
   "outputs": [
    {
     "data": {
      "text/plain": [
       "(22077, 222)"
      ]
     },
     "execution_count": 77,
     "metadata": {},
     "output_type": "execute_result"
    }
   ],
   "source": [
    "df1_comb.shape"
   ]
  },
  {
   "cell_type": "code",
   "execution_count": 78,
   "id": "d91d65d3",
   "metadata": {
    "colab": {
     "base_uri": "https://localhost:8080/"
    },
    "id": "d91d65d3",
    "outputId": "6516fd57-ca60-4823-95c0-fa7186bb2a04"
   },
   "outputs": [
    {
     "data": {
      "text/plain": [
       "Year                    0\n",
       "Revenue                 0\n",
       "Revenue Growth          0\n",
       "Cost of Revenue         0\n",
       "Gross Profit            0\n",
       "                       ..\n",
       "Debt Growth             0\n",
       "R&D Expense Growth      0\n",
       "SG&A Expenses Growth    0\n",
       "Sector                  0\n",
       "PRICE VAR [%]           0\n",
       "Length: 222, dtype: int64"
      ]
     },
     "execution_count": 78,
     "metadata": {},
     "output_type": "execute_result"
    }
   ],
   "source": [
    "df1_comb.isna().sum(axis=0) # isnull "
   ]
  },
  {
   "cell_type": "code",
   "execution_count": 79,
   "id": "dd68de7e",
   "metadata": {
    "colab": {
     "base_uri": "https://localhost:8080/"
    },
    "id": "dd68de7e",
    "outputId": "87e27550-b6a8-4e78-bfb9-1b4a290a5fa8"
   },
   "outputs": [
    {
     "name": "stdout",
     "output_type": "stream",
     "text": [
      "<class 'pandas.core.frame.DataFrame'>\n",
      "Int64Index: 22077 entries, 0 to 4391\n",
      "Columns: 222 entries, Year to PRICE VAR [%]\n",
      "dtypes: float64(220), object(2)\n",
      "memory usage: 37.6+ MB\n"
     ]
    }
   ],
   "source": [
    "df1_comb.info()"
   ]
  },
  {
   "cell_type": "code",
   "execution_count": 80,
   "id": "1b784a4d",
   "metadata": {
    "colab": {
     "base_uri": "https://localhost:8080/",
     "height": 382
    },
    "id": "1b784a4d",
    "outputId": "fe18afe8-b50e-4c9f-8217-41d352b7615f"
   },
   "outputs": [
    {
     "data": {
      "text/plain": [
       "(array([2.2074e+04, 0.0000e+00, 1.0000e+00, 0.0000e+00, 0.0000e+00,\n",
       "        1.0000e+00, 0.0000e+00, 0.0000e+00, 0.0000e+00, 1.0000e+00]),\n",
       " array([-1.00397220e+02,  2.41769734e+05,  4.83639865e+05,  7.25509997e+05,\n",
       "         9.67380128e+05,  1.20925026e+06,  1.45112039e+06,  1.69299052e+06,\n",
       "         1.93486065e+06,  2.17673078e+06,  2.41860092e+06]),\n",
       " <BarContainer object of 10 artists>)"
      ]
     },
     "execution_count": 80,
     "metadata": {},
     "output_type": "execute_result"
    },
    {
     "data": {
      "image/png": "[encoded data removed]",
      "text/plain": [
       "<Figure size 432x288 with 1 Axes>"
      ]
     },
     "metadata": {
      "needs_background": "light"
     },
     "output_type": "display_data"
    }
   ],
   "source": [
    "from matplotlib import pyplot as plt\n",
    "%matplotlib inline\n",
    "\n",
    "# check  outliers\n",
    "plt.hist(sorted(df1_comb['PRICE VAR [%]'].values))"
   ]
  },
  {
   "cell_type": "code",
   "execution_count": 81,
   "id": "9d45663b",
   "metadata": {
    "colab": {
     "base_uri": "https://localhost:8080/",
     "height": 352
    },
    "id": "9d45663b",
    "outputId": "b2054615-3250-40ee-c638-70d08aeee6c8"
   },
   "outputs": [
    {
     "data": {
      "text/plain": [
       "(array([   0.,  133., 1080., 2654., 6051., 7071., 3113., 1000.,  385.,\n",
       "         186.]),\n",
       " array([-150., -120.,  -90.,  -60.,  -30.,    0.,   30.,   60.,   90.,\n",
       "         120.,  150.]),\n",
       " <BarContainer object of 10 artists>)"
      ]
     },
     "execution_count": 81,
     "metadata": {},
     "output_type": "execute_result"
    },
    {
     "data": {
      "image/png": "[encoded data removed]",
      "text/plain": [
       "<Figure size 432x288 with 1 Axes>"
      ]
     },
     "metadata": {
      "needs_background": "light"
     },
     "output_type": "display_data"
    }
   ],
   "source": [
    "# check outliers with narrowed range\n",
    "plt.hist(sorted(df1_comb['PRICE VAR [%]'].values),range=[-150,150])"
   ]
  },
  {
   "cell_type": "code",
   "execution_count": 82,
   "id": "THPD9OGQCxrd",
   "metadata": {
    "colab": {
     "base_uri": "https://localhost:8080/",
     "height": 296
    },
    "id": "THPD9OGQCxrd",
    "outputId": "b9c37233-b18a-4d71-dc10-590189aa1aa1"
   },
   "outputs": [
    {
     "data": {
      "text/plain": [
       "<AxesSubplot:xlabel='PRICE VAR [%]'>"
      ]
     },
     "execution_count": 82,
     "metadata": {},
     "output_type": "execute_result"
    },
    {
     "data": {
      "image/png": "[encoded data removed]",
      "text/plain": [
       "<Figure size 432x288 with 1 Axes>"
      ]
     },
     "metadata": {
      "needs_background": "light"
     },
     "output_type": "display_data"
    }
   ],
   "source": [
    "# check outliers through boxplot\n",
    "import seaborn as sns \n",
    "sns.boxplot(x=df1_comb['PRICE VAR [%]'])"
   ]
  },
  {
   "cell_type": "code",
   "execution_count": 83,
   "id": "vJ71k4vLAjD2",
   "metadata": {
    "id": "vJ71k4vLAjD2"
   },
   "outputs": [],
   "source": [
    "# fixing up upper and lower bound of target variable\n",
    "df1_comb.loc[df1_comb['PRICE VAR [%]'] > 150, 'PRICE VAR [%]'] = 150 \n",
    "df1_comb.loc[df1_comb['PRICE VAR [%]'] < -150, 'PRICE VAR [%]'] = -150"
   ]
  },
  {
   "cell_type": "code",
   "execution_count": 84,
   "id": "9f4f749b",
   "metadata": {
    "colab": {
     "base_uri": "https://localhost:8080/",
     "height": 446
    },
    "id": "9f4f749b",
    "outputId": "1b5a6569-a5fb-4933-bd6e-ef5d82d79781"
   },
   "outputs": [
    {
     "data": {
      "text/html": [
       "<div>\n",
       "<style scoped>\n",
       "    .dataframe tbody tr th:only-of-type {\n",
       "        vertical-align: middle;\n",
       "    }\n",
       "\n",
       "    .dataframe tbody tr th {\n",
       "        vertical-align: top;\n",
       "    }\n",
       "\n",
       "    .dataframe thead th {\n",
       "        text-align: right;\n",
       "    }\n",
       "</style>\n",
       "<table border=\"1\" class=\"dataframe\">\n",
       "  <thead>\n",
       "    <tr style=\"text-align: right;\">\n",
       "      <th></th>\n",
       "      <th>Revenue</th>\n",
       "      <th>Revenue Growth</th>\n",
       "      <th>Cost of Revenue</th>\n",
       "      <th>Gross Profit</th>\n",
       "      <th>R&amp;D Expenses</th>\n",
       "      <th>SG&amp;A Expense</th>\n",
       "      <th>Operating Expenses</th>\n",
       "      <th>Operating Income</th>\n",
       "      <th>Interest Expense</th>\n",
       "      <th>Earnings before Tax</th>\n",
       "      <th>...</th>\n",
       "      <th>5Y Dividend per Share Growth (per Share)</th>\n",
       "      <th>3Y Dividend per Share Growth (per Share)</th>\n",
       "      <th>Receivables growth</th>\n",
       "      <th>Inventory Growth</th>\n",
       "      <th>Asset Growth</th>\n",
       "      <th>Book Value per Share Growth</th>\n",
       "      <th>Debt Growth</th>\n",
       "      <th>R&amp;D Expense Growth</th>\n",
       "      <th>SG&amp;A Expenses Growth</th>\n",
       "      <th>PRICE VAR [%]</th>\n",
       "    </tr>\n",
       "  </thead>\n",
       "  <tbody>\n",
       "    <tr>\n",
       "      <th>count</th>\n",
       "      <td>2.207700e+04</td>\n",
       "      <td>22077.000000</td>\n",
       "      <td>2.207700e+04</td>\n",
       "      <td>2.207700e+04</td>\n",
       "      <td>2.207700e+04</td>\n",
       "      <td>2.207700e+04</td>\n",
       "      <td>2.207700e+04</td>\n",
       "      <td>2.207700e+04</td>\n",
       "      <td>2.207700e+04</td>\n",
       "      <td>2.207700e+04</td>\n",
       "      <td>...</td>\n",
       "      <td>22077.000000</td>\n",
       "      <td>22077.000000</td>\n",
       "      <td>22077.000000</td>\n",
       "      <td>22077.000000</td>\n",
       "      <td>22077.000000</td>\n",
       "      <td>22077.000000</td>\n",
       "      <td>22077.000000</td>\n",
       "      <td>22077.000000</td>\n",
       "      <td>22077.000000</td>\n",
       "      <td>22077.000000</td>\n",
       "    </tr>\n",
       "    <tr>\n",
       "      <th>mean</th>\n",
       "      <td>4.910925e+09</td>\n",
       "      <td>3.285080</td>\n",
       "      <td>3.009440e+09</td>\n",
       "      <td>1.873349e+09</td>\n",
       "      <td>9.332620e+07</td>\n",
       "      <td>8.102573e+08</td>\n",
       "      <td>1.275211e+09</td>\n",
       "      <td>5.620772e+08</td>\n",
       "      <td>9.046300e+07</td>\n",
       "      <td>4.635422e+08</td>\n",
       "      <td>...</td>\n",
       "      <td>-0.000440</td>\n",
       "      <td>0.010174</td>\n",
       "      <td>9.922454</td>\n",
       "      <td>0.141394</td>\n",
       "      <td>1.016777</td>\n",
       "      <td>0.685808</td>\n",
       "      <td>3.291643</td>\n",
       "      <td>0.262416</td>\n",
       "      <td>0.331782</td>\n",
       "      <td>6.339251</td>\n",
       "    </tr>\n",
       "    <tr>\n",
       "      <th>std</th>\n",
       "      <td>3.113162e+10</td>\n",
       "      <td>297.497307</td>\n",
       "      <td>2.478751e+10</td>\n",
       "      <td>8.503174e+09</td>\n",
       "      <td>7.301294e+08</td>\n",
       "      <td>3.663598e+09</td>\n",
       "      <td>5.449907e+09</td>\n",
       "      <td>2.903786e+09</td>\n",
       "      <td>4.804687e+08</td>\n",
       "      <td>2.409017e+09</td>\n",
       "      <td>...</td>\n",
       "      <td>0.197541</td>\n",
       "      <td>0.239329</td>\n",
       "      <td>1046.767559</td>\n",
       "      <td>3.083677</td>\n",
       "      <td>42.858790</td>\n",
       "      <td>62.059472</td>\n",
       "      <td>164.186052</td>\n",
       "      <td>12.224340</td>\n",
       "      <td>14.181938</td>\n",
       "      <td>43.621788</td>\n",
       "    </tr>\n",
       "    <tr>\n",
       "      <th>min</th>\n",
       "      <td>-6.276160e+08</td>\n",
       "      <td>-12.769300</td>\n",
       "      <td>-2.986888e+09</td>\n",
       "      <td>-1.280800e+10</td>\n",
       "      <td>-1.098000e+08</td>\n",
       "      <td>-1.401594e+08</td>\n",
       "      <td>-5.495512e+09</td>\n",
       "      <td>-1.933900e+10</td>\n",
       "      <td>-1.710954e+09</td>\n",
       "      <td>-2.177200e+10</td>\n",
       "      <td>...</td>\n",
       "      <td>-1.000000</td>\n",
       "      <td>-1.000000</td>\n",
       "      <td>-1.000000</td>\n",
       "      <td>-1.000000</td>\n",
       "      <td>-1.000000</td>\n",
       "      <td>-3963.131200</td>\n",
       "      <td>-1.051000</td>\n",
       "      <td>-2.662200</td>\n",
       "      <td>-2.369900</td>\n",
       "      <td>-100.397220</td>\n",
       "    </tr>\n",
       "    <tr>\n",
       "      <th>25%</th>\n",
       "      <td>6.660900e+07</td>\n",
       "      <td>-0.002900</td>\n",
       "      <td>6.850000e+06</td>\n",
       "      <td>3.449400e+07</td>\n",
       "      <td>0.000000e+00</td>\n",
       "      <td>1.991800e+07</td>\n",
       "      <td>4.055263e+07</td>\n",
       "      <td>-3.000000e+06</td>\n",
       "      <td>0.000000e+00</td>\n",
       "      <td>-6.578000e+06</td>\n",
       "      <td>...</td>\n",
       "      <td>0.000000</td>\n",
       "      <td>0.000000</td>\n",
       "      <td>-0.031000</td>\n",
       "      <td>0.000000</td>\n",
       "      <td>-0.019800</td>\n",
       "      <td>-0.071800</td>\n",
       "      <td>-0.044000</td>\n",
       "      <td>0.000000</td>\n",
       "      <td>-0.002000</td>\n",
       "      <td>-19.474086</td>\n",
       "    </tr>\n",
       "    <tr>\n",
       "      <th>50%</th>\n",
       "      <td>4.352510e+08</td>\n",
       "      <td>0.057600</td>\n",
       "      <td>1.530115e+08</td>\n",
       "      <td>1.943525e+08</td>\n",
       "      <td>0.000000e+00</td>\n",
       "      <td>8.062450e+07</td>\n",
       "      <td>1.564000e+08</td>\n",
       "      <td>3.585350e+07</td>\n",
       "      <td>3.697000e+06</td>\n",
       "      <td>2.380000e+07</td>\n",
       "      <td>...</td>\n",
       "      <td>0.000000</td>\n",
       "      <td>0.000000</td>\n",
       "      <td>0.009500</td>\n",
       "      <td>0.000000</td>\n",
       "      <td>0.048000</td>\n",
       "      <td>0.032400</td>\n",
       "      <td>0.000000</td>\n",
       "      <td>0.000000</td>\n",
       "      <td>0.061000</td>\n",
       "      <td>3.909087</td>\n",
       "    </tr>\n",
       "    <tr>\n",
       "      <th>75%</th>\n",
       "      <td>2.072170e+09</td>\n",
       "      <td>0.162300</td>\n",
       "      <td>9.996170e+08</td>\n",
       "      <td>8.007850e+08</td>\n",
       "      <td>7.874000e+06</td>\n",
       "      <td>3.169000e+08</td>\n",
       "      <td>5.406530e+08</td>\n",
       "      <td>2.303000e+08</td>\n",
       "      <td>4.130000e+07</td>\n",
       "      <td>1.717490e+08</td>\n",
       "      <td>...</td>\n",
       "      <td>0.000000</td>\n",
       "      <td>0.000000</td>\n",
       "      <td>0.170600</td>\n",
       "      <td>0.033200</td>\n",
       "      <td>0.150500</td>\n",
       "      <td>0.117400</td>\n",
       "      <td>0.107000</td>\n",
       "      <td>0.000000</td>\n",
       "      <td>0.162000</td>\n",
       "      <td>27.505667</td>\n",
       "    </tr>\n",
       "    <tr>\n",
       "      <th>max</th>\n",
       "      <td>1.886894e+12</td>\n",
       "      <td>42138.663900</td>\n",
       "      <td>1.581527e+12</td>\n",
       "      <td>4.621600e+11</td>\n",
       "      <td>2.883700e+10</td>\n",
       "      <td>1.856830e+11</td>\n",
       "      <td>3.056050e+11</td>\n",
       "      <td>1.565540e+11</td>\n",
       "      <td>3.152300e+10</td>\n",
       "      <td>8.720500e+10</td>\n",
       "      <td>...</td>\n",
       "      <td>2.981100</td>\n",
       "      <td>5.400500</td>\n",
       "      <td>153332.333300</td>\n",
       "      <td>293.473000</td>\n",
       "      <td>5468.426400</td>\n",
       "      <td>7039.325900</td>\n",
       "      <td>17646.823500</td>\n",
       "      <td>1542.611000</td>\n",
       "      <td>2042.000000</td>\n",
       "      <td>150.000000</td>\n",
       "    </tr>\n",
       "  </tbody>\n",
       "</table>\n",
       "<p>8 rows × 220 columns</p>\n",
       "</div>"
      ],
      "text/plain": [
       "            Revenue  Revenue Growth  Cost of Revenue  Gross Profit  \\\n",
       "count  2.207700e+04    22077.000000     2.207700e+04  2.207700e+04   \n",
       "mean   4.910925e+09        3.285080     3.009440e+09  1.873349e+09   \n",
       "std    3.113162e+10      297.497307     2.478751e+10  8.503174e+09   \n",
       "min   -6.276160e+08      -12.769300    -2.986888e+09 -1.280800e+10   \n",
       "25%    6.660900e+07       -0.002900     6.850000e+06  3.449400e+07   \n",
       "50%    4.352510e+08        0.057600     1.530115e+08  1.943525e+08   \n",
       "75%    2.072170e+09        0.162300     9.996170e+08  8.007850e+08   \n",
       "max    1.886894e+12    42138.663900     1.581527e+12  4.621600e+11   \n",
       "\n",
       "       R&D Expenses  SG&A Expense  Operating Expenses  Operating Income  \\\n",
       "count  2.207700e+04  2.207700e+04        2.207700e+04      2.207700e+04   \n",
       "mean   9.332620e+07  8.102573e+08        1.275211e+09      5.620772e+08   \n",
       "std    7.301294e+08  3.663598e+09        5.449907e+09      2.903786e+09   \n",
       "min   -1.098000e+08 -1.401594e+08       -5.495512e+09     -1.933900e+10   \n",
       "25%    0.000000e+00  1.991800e+07        4.055263e+07     -3.000000e+06   \n",
       "50%    0.000000e+00  8.062450e+07        1.564000e+08      3.585350e+07   \n",
       "75%    7.874000e+06  3.169000e+08        5.406530e+08      2.303000e+08   \n",
       "max    2.883700e+10  1.856830e+11        3.056050e+11      1.565540e+11   \n",
       "\n",
       "       Interest Expense  Earnings before Tax  ...  \\\n",
       "count      2.207700e+04         2.207700e+04  ...   \n",
       "mean       9.046300e+07         4.635422e+08  ...   \n",
       "std        4.804687e+08         2.409017e+09  ...   \n",
       "min       -1.710954e+09        -2.177200e+10  ...   \n",
       "25%        0.000000e+00        -6.578000e+06  ...   \n",
       "50%        3.697000e+06         2.380000e+07  ...   \n",
       "75%        4.130000e+07         1.717490e+08  ...   \n",
       "max        3.152300e+10         8.720500e+10  ...   \n",
       "\n",
       "       5Y Dividend per Share Growth (per Share)  \\\n",
       "count                              22077.000000   \n",
       "mean                                  -0.000440   \n",
       "std                                    0.197541   \n",
       "min                                   -1.000000   \n",
       "25%                                    0.000000   \n",
       "50%                                    0.000000   \n",
       "75%                                    0.000000   \n",
       "max                                    2.981100   \n",
       "\n",
       "       3Y Dividend per Share Growth (per Share)  Receivables growth  \\\n",
       "count                              22077.000000        22077.000000   \n",
       "mean                                   0.010174            9.922454   \n",
       "std                                    0.239329         1046.767559   \n",
       "min                                   -1.000000           -1.000000   \n",
       "25%                                    0.000000           -0.031000   \n",
       "50%                                    0.000000            0.009500   \n",
       "75%                                    0.000000            0.170600   \n",
       "max                                    5.400500       153332.333300   \n",
       "\n",
       "       Inventory Growth  Asset Growth  Book Value per Share Growth  \\\n",
       "count      22077.000000  22077.000000                 22077.000000   \n",
       "mean           0.141394      1.016777                     0.685808   \n",
       "std            3.083677     42.858790                    62.059472   \n",
       "min           -1.000000     -1.000000                 -3963.131200   \n",
       "25%            0.000000     -0.019800                    -0.071800   \n",
       "50%            0.000000      0.048000                     0.032400   \n",
       "75%            0.033200      0.150500                     0.117400   \n",
       "max          293.473000   5468.426400                  7039.325900   \n",
       "\n",
       "        Debt Growth  R&D Expense Growth  SG&A Expenses Growth  PRICE VAR [%]  \n",
       "count  22077.000000        22077.000000          22077.000000   22077.000000  \n",
       "mean       3.291643            0.262416              0.331782       6.339251  \n",
       "std      164.186052           12.224340             14.181938      43.621788  \n",
       "min       -1.051000           -2.662200             -2.369900    -100.397220  \n",
       "25%       -0.044000            0.000000             -0.002000     -19.474086  \n",
       "50%        0.000000            0.000000              0.061000       3.909087  \n",
       "75%        0.107000            0.000000              0.162000      27.505667  \n",
       "max    17646.823500         1542.611000           2042.000000     150.000000  \n",
       "\n",
       "[8 rows x 220 columns]"
      ]
     },
     "execution_count": 84,
     "metadata": {},
     "output_type": "execute_result"
    }
   ],
   "source": [
    "stats_des = df1_comb.describe()\n",
    "stats_des"
   ]
  },
  {
   "cell_type": "code",
   "execution_count": 85,
   "id": "BpbLkc88nHJx",
   "metadata": {
    "colab": {
     "base_uri": "https://localhost:8080/"
    },
    "id": "BpbLkc88nHJx",
    "outputId": "26149c5e-5794-4806-c36e-00905be9af85"
   },
   "outputs": [
    {
     "data": {
      "text/plain": [
       "Revenue                        6.652841e+11\n",
       "Revenue Growth                 1.577999e+04\n",
       "Cost of Revenue                5.579113e+11\n",
       "Gross Profit                   1.635740e+11\n",
       "R&D Expenses                   1.016235e+10\n",
       "                                   ...     \n",
       "Book Value per Share Growth    8.221708e+03\n",
       "Debt Growth                    9.257635e+03\n",
       "R&D Expense Growth             7.745782e+03\n",
       "SG&A Expenses Growth           7.734649e+03\n",
       "PRICE VAR [%]                  7.800077e+03\n",
       "Length: 220, dtype: float64"
      ]
     },
     "execution_count": 85,
     "metadata": {},
     "output_type": "execute_result"
    }
   ],
   "source": [
    "# to check spread of variance / std. among varaibles\n",
    "stats_des.std()"
   ]
  },
  {
   "cell_type": "code",
   "execution_count": 86,
   "id": "265bcf3d",
   "metadata": {
    "colab": {
     "base_uri": "https://localhost:8080/"
    },
    "id": "265bcf3d",
    "outputId": "2878e72c-15e6-4b8e-99be-eb12b52ac1ae"
   },
   "outputs": [
    {
     "data": {
      "text/plain": [
       "Index(['Year', 'Revenue', 'Revenue Growth', 'Cost of Revenue', 'Gross Profit',\n",
       "       'R&D Expenses', 'SG&A Expense', 'Operating Expenses',\n",
       "       'Operating Income', 'Interest Expense',\n",
       "       ...\n",
       "       '3Y Dividend per Share Growth (per Share)', 'Receivables growth',\n",
       "       'Inventory Growth', 'Asset Growth', 'Book Value per Share Growth',\n",
       "       'Debt Growth', 'R&D Expense Growth', 'SG&A Expenses Growth', 'Sector',\n",
       "       'PRICE VAR [%]'],\n",
       "      dtype='object', length=222)"
      ]
     },
     "execution_count": 86,
     "metadata": {},
     "output_type": "execute_result"
    }
   ],
   "source": [
    "df1_comb.columns"
   ]
  },
  {
   "cell_type": "markdown",
   "id": "sgNVVcQuJH6h",
   "metadata": {
    "id": "sgNVVcQuJH6h"
   },
   "source": [
    "### **Constructing Feature Matrix**\n",
    "Stock prices are driven by a variety of factors, but ultimately the price at any given moment is due to the **supply and demand** at that point in time in the market.\n",
    "Fundamental factors drive stock prices based on a **company's earnings and profitability** from producing and selling goods and services."
   ]
  },
  {
   "cell_type": "code",
   "execution_count": 87,
   "id": "094a78e8",
   "metadata": {
    "colab": {
     "base_uri": "https://localhost:8080/"
    },
    "id": "094a78e8",
    "outputId": "72245dee-68d7-43aa-ca64-6175d7742f86"
   },
   "outputs": [
    {
     "data": {
      "text/plain": [
       "((22077, 10), (22077,))"
      ]
     },
     "execution_count": 87,
     "metadata": {},
     "output_type": "execute_result"
    }
   ],
   "source": [
    "# construct feature matrix\n",
    "feature_names = ['Year', '3Y Dividend per Share Growth (per Share)', 'R&D Expense Growth', 'Book Value per Share Growth', \n",
    "                 'Gross Profit Growth', 'Asset Growth', 'Debt Growth', 'SG&A Expenses Growth', \n",
    "                'Earnings before Tax', 'Sector']\n",
    "            \n",
    "X_data = df1_comb[feature_names]\n",
    "y_data = df1_comb['PRICE VAR [%]']\n",
    "X_data.shape, y_data.shape\n"
   ]
  },
  {
   "cell_type": "code",
   "execution_count": 88,
   "id": "9ab1aa91",
   "metadata": {
    "id": "9ab1aa91"
   },
   "outputs": [],
   "source": [
    "# separating numerical and categorical variables\n",
    "num = ['3Y Dividend per Share Growth (per Share)', 'R&D Expense Growth', 'Book Value per Share Growth', \n",
    "                 'Gross Profit Growth', 'Asset Growth', 'Debt Growth', 'SG&A Expenses Growth', \n",
    "                'Earnings before Tax']\n",
    "\n",
    "cat = ['Year', 'Sector']"
   ]
  },
  {
   "cell_type": "markdown",
   "id": "tkzOTOPyrsaq",
   "metadata": {
    "id": "tkzOTOPyrsaq"
   },
   "source": [
    "### **Data Preprocessing**\n",
    "#### **Encoding categorical features**\n",
    "\n",
    "> 𝑂𝑛𝑒𝐻𝑜𝑡𝐸𝑛𝑐𝑜𝑑𝑒𝑟 which transforms each categorical feature with n_categories possible values into n_categories binary features, with one of them 1, and all others 0.\n",
    "\n"
   ]
  },
  {
   "cell_type": "code",
   "execution_count": 89,
   "id": "MlC47UaSsSE4",
   "metadata": {
    "id": "MlC47UaSsSE4"
   },
   "outputs": [],
   "source": [
    "from sklearn.preprocessing import OneHotEncoder"
   ]
  },
  {
   "cell_type": "code",
   "execution_count": 90,
   "id": "fbeGOGulsmYF",
   "metadata": {
    "colab": {
     "base_uri": "https://localhost:8080/"
    },
    "id": "fbeGOGulsmYF",
    "outputId": "c1f972e2-e08c-42f9-b14a-7abc537881f9"
   },
   "outputs": [
    {
     "data": {
      "text/plain": [
       "array([[1., 0., 0., ..., 0., 0., 0.],\n",
       "       [1., 0., 0., ..., 0., 0., 0.],\n",
       "       [1., 0., 0., ..., 0., 0., 0.],\n",
       "       ...,\n",
       "       [0., 0., 0., ..., 0., 0., 0.],\n",
       "       [0., 0., 0., ..., 0., 0., 0.],\n",
       "       [0., 0., 0., ..., 0., 0., 0.]])"
      ]
     },
     "execution_count": 90,
     "metadata": {},
     "output_type": "execute_result"
    }
   ],
   "source": [
    "### encoding categorical features for the data\n",
    "## using OneHotEncoder\n",
    "\n",
    "ohe = OneHotEncoder()\n",
    "ohe.fit_transform(X_data[cat]).toarray()"
   ]
  },
  {
   "cell_type": "code",
   "execution_count": 91,
   "id": "wCMZp3L0swm8",
   "metadata": {
    "colab": {
     "base_uri": "https://localhost:8080/"
    },
    "id": "wCMZp3L0swm8",
    "outputId": "be7ad405-f34e-4c89-c49e-bfa529e25b3d"
   },
   "outputs": [
    {
     "data": {
      "text/plain": [
       "[array(['2014', '2015', '2016', '2017', '2018'], dtype=object),\n",
       " array(['Basic Materials', 'Communication Services', 'Consumer Cyclical',\n",
       "        'Consumer Defensive', 'Energy', 'Financial Services', 'Healthcare',\n",
       "        'Industrials', 'Real Estate', 'Technology', 'Utilities'],\n",
       "       dtype=object)]"
      ]
     },
     "execution_count": 91,
     "metadata": {},
     "output_type": "execute_result"
    }
   ],
   "source": [
    "ohe.categories_"
   ]
  },
  {
   "cell_type": "code",
   "execution_count": 92,
   "id": "1iZwM2Y0sxpk",
   "metadata": {
    "colab": {
     "base_uri": "https://localhost:8080/"
    },
    "id": "1iZwM2Y0sxpk",
    "outputId": "ba15c45b-74bc-4728-8405-09ef87a7e2cf"
   },
   "outputs": [
    {
     "data": {
      "text/plain": [
       "array(['x0_2014', 'x0_2015', 'x0_2016', 'x0_2017', 'x0_2018',\n",
       "       'x1_Basic Materials', 'x1_Communication Services',\n",
       "       'x1_Consumer Cyclical', 'x1_Consumer Defensive', 'x1_Energy',\n",
       "       'x1_Financial Services', 'x1_Healthcare', 'x1_Industrials',\n",
       "       'x1_Real Estate', 'x1_Technology', 'x1_Utilities'], dtype=object)"
      ]
     },
     "execution_count": 92,
     "metadata": {},
     "output_type": "execute_result"
    }
   ],
   "source": [
    "ohe.get_feature_names()"
   ]
  },
  {
   "cell_type": "code",
   "execution_count": 93,
   "id": "zdvFNC0Ns3ik",
   "metadata": {
    "colab": {
     "base_uri": "https://localhost:8080/"
    },
    "id": "zdvFNC0Ns3ik",
    "outputId": "52282f1a-359d-49b7-ebb8-c0dba892c24a"
   },
   "outputs": [
    {
     "data": {
      "text/html": [
       "<div>\n",
       "<style scoped>\n",
       "    .dataframe tbody tr th:only-of-type {\n",
       "        vertical-align: middle;\n",
       "    }\n",
       "\n",
       "    .dataframe tbody tr th {\n",
       "        vertical-align: top;\n",
       "    }\n",
       "\n",
       "    .dataframe thead th {\n",
       "        text-align: right;\n",
       "    }\n",
       "</style>\n",
       "<table border=\"1\" class=\"dataframe\">\n",
       "  <thead>\n",
       "    <tr style=\"text-align: right;\">\n",
       "      <th></th>\n",
       "      <th>x0_2014</th>\n",
       "      <th>x0_2015</th>\n",
       "      <th>x0_2016</th>\n",
       "      <th>x0_2017</th>\n",
       "      <th>x0_2018</th>\n",
       "      <th>x1_Basic Materials</th>\n",
       "      <th>x1_Communication Services</th>\n",
       "      <th>x1_Consumer Cyclical</th>\n",
       "      <th>x1_Consumer Defensive</th>\n",
       "      <th>x1_Energy</th>\n",
       "      <th>x1_Financial Services</th>\n",
       "      <th>x1_Healthcare</th>\n",
       "      <th>x1_Industrials</th>\n",
       "      <th>x1_Real Estate</th>\n",
       "      <th>x1_Technology</th>\n",
       "      <th>x1_Utilities</th>\n",
       "    </tr>\n",
       "  </thead>\n",
       "  <tbody>\n",
       "    <tr>\n",
       "      <th>0</th>\n",
       "      <td>1.0</td>\n",
       "      <td>0.0</td>\n",
       "      <td>0.0</td>\n",
       "      <td>0.0</td>\n",
       "      <td>0.0</td>\n",
       "      <td>0.0</td>\n",
       "      <td>0.0</td>\n",
       "      <td>0.0</td>\n",
       "      <td>1.0</td>\n",
       "      <td>0.0</td>\n",
       "      <td>0.0</td>\n",
       "      <td>0.0</td>\n",
       "      <td>0.0</td>\n",
       "      <td>0.0</td>\n",
       "      <td>0.0</td>\n",
       "      <td>0.0</td>\n",
       "    </tr>\n",
       "    <tr>\n",
       "      <th>1</th>\n",
       "      <td>1.0</td>\n",
       "      <td>0.0</td>\n",
       "      <td>0.0</td>\n",
       "      <td>0.0</td>\n",
       "      <td>0.0</td>\n",
       "      <td>0.0</td>\n",
       "      <td>0.0</td>\n",
       "      <td>0.0</td>\n",
       "      <td>1.0</td>\n",
       "      <td>0.0</td>\n",
       "      <td>0.0</td>\n",
       "      <td>0.0</td>\n",
       "      <td>0.0</td>\n",
       "      <td>0.0</td>\n",
       "      <td>0.0</td>\n",
       "      <td>0.0</td>\n",
       "    </tr>\n",
       "    <tr>\n",
       "      <th>2</th>\n",
       "      <td>1.0</td>\n",
       "      <td>0.0</td>\n",
       "      <td>0.0</td>\n",
       "      <td>0.0</td>\n",
       "      <td>0.0</td>\n",
       "      <td>0.0</td>\n",
       "      <td>0.0</td>\n",
       "      <td>0.0</td>\n",
       "      <td>1.0</td>\n",
       "      <td>0.0</td>\n",
       "      <td>0.0</td>\n",
       "      <td>0.0</td>\n",
       "      <td>0.0</td>\n",
       "      <td>0.0</td>\n",
       "      <td>0.0</td>\n",
       "      <td>0.0</td>\n",
       "    </tr>\n",
       "    <tr>\n",
       "      <th>3</th>\n",
       "      <td>1.0</td>\n",
       "      <td>0.0</td>\n",
       "      <td>0.0</td>\n",
       "      <td>0.0</td>\n",
       "      <td>0.0</td>\n",
       "      <td>0.0</td>\n",
       "      <td>0.0</td>\n",
       "      <td>0.0</td>\n",
       "      <td>1.0</td>\n",
       "      <td>0.0</td>\n",
       "      <td>0.0</td>\n",
       "      <td>0.0</td>\n",
       "      <td>0.0</td>\n",
       "      <td>0.0</td>\n",
       "      <td>0.0</td>\n",
       "      <td>0.0</td>\n",
       "    </tr>\n",
       "    <tr>\n",
       "      <th>4</th>\n",
       "      <td>1.0</td>\n",
       "      <td>0.0</td>\n",
       "      <td>0.0</td>\n",
       "      <td>0.0</td>\n",
       "      <td>0.0</td>\n",
       "      <td>0.0</td>\n",
       "      <td>0.0</td>\n",
       "      <td>0.0</td>\n",
       "      <td>1.0</td>\n",
       "      <td>0.0</td>\n",
       "      <td>0.0</td>\n",
       "      <td>0.0</td>\n",
       "      <td>0.0</td>\n",
       "      <td>0.0</td>\n",
       "      <td>0.0</td>\n",
       "      <td>0.0</td>\n",
       "    </tr>\n",
       "  </tbody>\n",
       "</table>\n",
       "</div>"
      ],
      "text/plain": [
       "   x0_2014  x0_2015  x0_2016  x0_2017  x0_2018  x1_Basic Materials  \\\n",
       "0      1.0      0.0      0.0      0.0      0.0                 0.0   \n",
       "1      1.0      0.0      0.0      0.0      0.0                 0.0   \n",
       "2      1.0      0.0      0.0      0.0      0.0                 0.0   \n",
       "3      1.0      0.0      0.0      0.0      0.0                 0.0   \n",
       "4      1.0      0.0      0.0      0.0      0.0                 0.0   \n",
       "\n",
       "   x1_Communication Services  x1_Consumer Cyclical  x1_Consumer Defensive  \\\n",
       "0                        0.0                   0.0                    1.0   \n",
       "1                        0.0                   0.0                    1.0   \n",
       "2                        0.0                   0.0                    1.0   \n",
       "3                        0.0                   0.0                    1.0   \n",
       "4                        0.0                   0.0                    1.0   \n",
       "\n",
       "   x1_Energy  x1_Financial Services  x1_Healthcare  x1_Industrials  \\\n",
       "0        0.0                    0.0            0.0             0.0   \n",
       "1        0.0                    0.0            0.0             0.0   \n",
       "2        0.0                    0.0            0.0             0.0   \n",
       "3        0.0                    0.0            0.0             0.0   \n",
       "4        0.0                    0.0            0.0             0.0   \n",
       "\n",
       "   x1_Real Estate  x1_Technology  x1_Utilities  \n",
       "0             0.0            0.0           0.0  \n",
       "1             0.0            0.0           0.0  \n",
       "2             0.0            0.0           0.0  \n",
       "3             0.0            0.0           0.0  \n",
       "4             0.0            0.0           0.0  "
      ]
     },
     "execution_count": 93,
     "metadata": {},
     "output_type": "execute_result"
    }
   ],
   "source": [
    "## displaying data with categorical features\n",
    "## in tabular form after OneHotEncoding\n",
    "## fitting and transforming\n",
    "\n",
    "X_data_ohe = ohe.fit_transform(X_data[cat]).toarray()\n",
    "df_X_data_ohe = pd.DataFrame(ohe.fit_transform(X_data[cat]).toarray()).rename(columns={i: v \n",
    "                        for i, v in enumerate(ohe.get_feature_names())})\n",
    "df_X_data_ohe.head()"
   ]
  },
  {
   "cell_type": "code",
   "execution_count": 94,
   "id": "K7jhc8JdteFb",
   "metadata": {
    "id": "K7jhc8JdteFb"
   },
   "outputs": [],
   "source": [
    "### merging categorical data after OneHotEncoding, with existing numerical data\n",
    "\n",
    "X_data_final = X_data[num].join(df_X_data_ohe)\n"
   ]
  },
  {
   "cell_type": "markdown",
   "id": "vnAdzaSuyfX7",
   "metadata": {
    "id": "vnAdzaSuyfX7"
   },
   "source": [
    "### Multiple Linear Regression\n",
    "#### **Spliting Data for Training and Testing**"
   ]
  },
  {
   "cell_type": "code",
   "execution_count": 95,
   "id": "IZJ_WqPbt7hq",
   "metadata": {
    "id": "IZJ_WqPbt7hq"
   },
   "outputs": [],
   "source": [
    "from sklearn.linear_model import LinearRegression, Ridge, Lasso\n",
    "from sklearn.preprocessing import PolynomialFeatures\n",
    "from sklearn.model_selection import train_test_split\n",
    "\n",
    "# split data into training and testing\n",
    "X_train, X_test, y_train, y_test = train_test_split(X_data_final, y_data, test_size=0.3, random_state=42)\n"
   ]
  },
  {
   "cell_type": "markdown",
   "id": "BzNCFXLqsPAB",
   "metadata": {
    "id": "BzNCFXLqsPAB"
   },
   "source": [
    "### **Data Preprocessing**\n",
    "#### **Numerical Variables**\n",
    "#### **Scaling data with outliers**\n",
    "\n",
    "> If data contains many outliers, scaling using the mean and variance of the data (**StandardScaler or MaxAbsScaler: suitable for sparse data**) is likely to not work very well. In these cases, We can use **RobustScaler** as a drop-in replacement instead. It uses more robust estimates for the center and range of your data."
   ]
  },
  {
   "cell_type": "code",
   "execution_count": 96,
   "id": "21c64af2",
   "metadata": {
    "colab": {
     "base_uri": "https://localhost:8080/"
    },
    "id": "21c64af2",
    "outputId": "bebdd195-dec7-461b-f5eb-395f66351189"
   },
   "outputs": [
    {
     "data": {
      "text/plain": [
       "RobustScaler()"
      ]
     },
     "execution_count": 96,
     "metadata": {},
     "output_type": "execute_result"
    }
   ],
   "source": [
    "#### Data Preprocessing\n",
    "## standardizing the training data for Multiple Linear Regression\n",
    "## using RobustScaler\n",
    "### fitting training data\n",
    "from sklearn.preprocessing import RobustScaler\n",
    "transformer = RobustScaler(quantile_range=(25.0, 75.0)).fit(X_train)\n",
    "transformer"
   ]
  },
  {
   "cell_type": "code",
   "execution_count": 97,
   "id": "Vi6DyPSa5MhT",
   "metadata": {
    "colab": {
     "base_uri": "https://localhost:8080/"
    },
    "id": "Vi6DyPSa5MhT",
    "outputId": "068b7edd-b811-47e3-9573-a008b1245e04"
   },
   "outputs": [
    {
     "data": {
      "text/plain": [
       "array([[  0.116,   0.   ,   0.935, ...,   0.   ,   1.   ,   0.   ],\n",
       "       [  0.032,   0.   , -20.202, ...,   0.   ,   0.   ,   0.   ],\n",
       "       [  0.   ,   0.   ,  -0.519, ...,   0.   ,   0.   ,   0.   ],\n",
       "       ...,\n",
       "       [  0.085,   0.1  ,   0.717, ...,   0.   ,   0.   ,   0.   ],\n",
       "       [ -0.059,  -0.337,  -0.884, ...,   0.   ,   0.   ,   0.   ],\n",
       "       [  0.074,   0.   ,   0.159, ...,   0.   ,   0.   ,   1.   ]])"
      ]
     },
     "execution_count": 97,
     "metadata": {},
     "output_type": "execute_result"
    }
   ],
   "source": [
    "### transforming training data into RobustScale \n",
    "X_train_robust = np.round(transformer.transform(X_train), 3)\n",
    "X_train_robust"
   ]
  },
  {
   "cell_type": "code",
   "execution_count": 98,
   "id": "HzAJkqtywgPS",
   "metadata": {
    "colab": {
     "base_uri": "https://localhost:8080/",
     "height": 374
    },
    "id": "HzAJkqtywgPS",
    "outputId": "7ea271ee-20ed-42e7-e715-4369fec3c558"
   },
   "outputs": [
    {
     "data": {
      "text/html": [
       "<div>\n",
       "<style scoped>\n",
       "    .dataframe tbody tr th:only-of-type {\n",
       "        vertical-align: middle;\n",
       "    }\n",
       "\n",
       "    .dataframe tbody tr th {\n",
       "        vertical-align: top;\n",
       "    }\n",
       "\n",
       "    .dataframe thead th {\n",
       "        text-align: right;\n",
       "    }\n",
       "</style>\n",
       "<table border=\"1\" class=\"dataframe\">\n",
       "  <thead>\n",
       "    <tr style=\"text-align: right;\">\n",
       "      <th></th>\n",
       "      <th>3Y Dividend per Share Growth (per Share)</th>\n",
       "      <th>R&amp;D Expense Growth</th>\n",
       "      <th>Book Value per Share Growth</th>\n",
       "      <th>Gross Profit Growth</th>\n",
       "      <th>Asset Growth</th>\n",
       "      <th>Debt Growth</th>\n",
       "      <th>SG&amp;A Expenses Growth</th>\n",
       "      <th>Earnings before Tax</th>\n",
       "      <th>x0_2014</th>\n",
       "      <th>x0_2015</th>\n",
       "      <th>...</th>\n",
       "      <th>x1_Communication Services</th>\n",
       "      <th>x1_Consumer Cyclical</th>\n",
       "      <th>x1_Consumer Defensive</th>\n",
       "      <th>x1_Energy</th>\n",
       "      <th>x1_Financial Services</th>\n",
       "      <th>x1_Healthcare</th>\n",
       "      <th>x1_Industrials</th>\n",
       "      <th>x1_Real Estate</th>\n",
       "      <th>x1_Technology</th>\n",
       "      <th>x1_Utilities</th>\n",
       "    </tr>\n",
       "  </thead>\n",
       "  <tbody>\n",
       "    <tr>\n",
       "      <th>0</th>\n",
       "      <td>0.116</td>\n",
       "      <td>0.000</td>\n",
       "      <td>0.935</td>\n",
       "      <td>0.791</td>\n",
       "      <td>-0.139</td>\n",
       "      <td>-1.520</td>\n",
       "      <td>-1.015</td>\n",
       "      <td>0.533</td>\n",
       "      <td>0.0</td>\n",
       "      <td>0.0</td>\n",
       "      <td>...</td>\n",
       "      <td>0.0</td>\n",
       "      <td>0.0</td>\n",
       "      <td>0.0</td>\n",
       "      <td>0.0</td>\n",
       "      <td>0.0</td>\n",
       "      <td>0.0</td>\n",
       "      <td>0.0</td>\n",
       "      <td>0.0</td>\n",
       "      <td>1.0</td>\n",
       "      <td>0.0</td>\n",
       "    </tr>\n",
       "    <tr>\n",
       "      <th>1</th>\n",
       "      <td>0.032</td>\n",
       "      <td>0.000</td>\n",
       "      <td>-20.202</td>\n",
       "      <td>-0.170</td>\n",
       "      <td>-0.595</td>\n",
       "      <td>0.008</td>\n",
       "      <td>-0.743</td>\n",
       "      <td>3.433</td>\n",
       "      <td>0.0</td>\n",
       "      <td>0.0</td>\n",
       "      <td>...</td>\n",
       "      <td>0.0</td>\n",
       "      <td>1.0</td>\n",
       "      <td>0.0</td>\n",
       "      <td>0.0</td>\n",
       "      <td>0.0</td>\n",
       "      <td>0.0</td>\n",
       "      <td>0.0</td>\n",
       "      <td>0.0</td>\n",
       "      <td>0.0</td>\n",
       "      <td>0.0</td>\n",
       "    </tr>\n",
       "    <tr>\n",
       "      <th>2</th>\n",
       "      <td>0.000</td>\n",
       "      <td>0.000</td>\n",
       "      <td>-0.519</td>\n",
       "      <td>-0.741</td>\n",
       "      <td>-0.454</td>\n",
       "      <td>-0.469</td>\n",
       "      <td>-0.323</td>\n",
       "      <td>4.704</td>\n",
       "      <td>0.0</td>\n",
       "      <td>0.0</td>\n",
       "      <td>...</td>\n",
       "      <td>0.0</td>\n",
       "      <td>0.0</td>\n",
       "      <td>0.0</td>\n",
       "      <td>0.0</td>\n",
       "      <td>0.0</td>\n",
       "      <td>0.0</td>\n",
       "      <td>0.0</td>\n",
       "      <td>0.0</td>\n",
       "      <td>0.0</td>\n",
       "      <td>0.0</td>\n",
       "    </tr>\n",
       "    <tr>\n",
       "      <th>3</th>\n",
       "      <td>0.000</td>\n",
       "      <td>0.062</td>\n",
       "      <td>-0.759</td>\n",
       "      <td>-0.129</td>\n",
       "      <td>-0.812</td>\n",
       "      <td>0.000</td>\n",
       "      <td>0.291</td>\n",
       "      <td>-0.141</td>\n",
       "      <td>0.0</td>\n",
       "      <td>0.0</td>\n",
       "      <td>...</td>\n",
       "      <td>0.0</td>\n",
       "      <td>0.0</td>\n",
       "      <td>0.0</td>\n",
       "      <td>0.0</td>\n",
       "      <td>0.0</td>\n",
       "      <td>0.0</td>\n",
       "      <td>0.0</td>\n",
       "      <td>0.0</td>\n",
       "      <td>1.0</td>\n",
       "      <td>0.0</td>\n",
       "    </tr>\n",
       "    <tr>\n",
       "      <th>4</th>\n",
       "      <td>0.053</td>\n",
       "      <td>0.000</td>\n",
       "      <td>0.187</td>\n",
       "      <td>0.102</td>\n",
       "      <td>0.186</td>\n",
       "      <td>0.600</td>\n",
       "      <td>-0.373</td>\n",
       "      <td>0.210</td>\n",
       "      <td>0.0</td>\n",
       "      <td>0.0</td>\n",
       "      <td>...</td>\n",
       "      <td>0.0</td>\n",
       "      <td>0.0</td>\n",
       "      <td>0.0</td>\n",
       "      <td>0.0</td>\n",
       "      <td>0.0</td>\n",
       "      <td>0.0</td>\n",
       "      <td>0.0</td>\n",
       "      <td>0.0</td>\n",
       "      <td>0.0</td>\n",
       "      <td>1.0</td>\n",
       "    </tr>\n",
       "  </tbody>\n",
       "</table>\n",
       "<p>5 rows × 24 columns</p>\n",
       "</div>"
      ],
      "text/plain": [
       "   3Y Dividend per Share Growth (per Share)  R&D Expense Growth  \\\n",
       "0                                     0.116               0.000   \n",
       "1                                     0.032               0.000   \n",
       "2                                     0.000               0.000   \n",
       "3                                     0.000               0.062   \n",
       "4                                     0.053               0.000   \n",
       "\n",
       "   Book Value per Share Growth  Gross Profit Growth  Asset Growth  \\\n",
       "0                        0.935                0.791        -0.139   \n",
       "1                      -20.202               -0.170        -0.595   \n",
       "2                       -0.519               -0.741        -0.454   \n",
       "3                       -0.759               -0.129        -0.812   \n",
       "4                        0.187                0.102         0.186   \n",
       "\n",
       "   Debt Growth  SG&A Expenses Growth  Earnings before Tax  x0_2014  x0_2015  \\\n",
       "0       -1.520                -1.015                0.533      0.0      0.0   \n",
       "1        0.008                -0.743                3.433      0.0      0.0   \n",
       "2       -0.469                -0.323                4.704      0.0      0.0   \n",
       "3        0.000                 0.291               -0.141      0.0      0.0   \n",
       "4        0.600                -0.373                0.210      0.0      0.0   \n",
       "\n",
       "   ...  x1_Communication Services  x1_Consumer Cyclical  \\\n",
       "0  ...                        0.0                   0.0   \n",
       "1  ...                        0.0                   1.0   \n",
       "2  ...                        0.0                   0.0   \n",
       "3  ...                        0.0                   0.0   \n",
       "4  ...                        0.0                   0.0   \n",
       "\n",
       "   x1_Consumer Defensive  x1_Energy  x1_Financial Services  x1_Healthcare  \\\n",
       "0                    0.0        0.0                    0.0            0.0   \n",
       "1                    0.0        0.0                    0.0            0.0   \n",
       "2                    0.0        0.0                    0.0            0.0   \n",
       "3                    0.0        0.0                    0.0            0.0   \n",
       "4                    0.0        0.0                    0.0            0.0   \n",
       "\n",
       "   x1_Industrials  x1_Real Estate  x1_Technology  x1_Utilities  \n",
       "0             0.0             0.0            1.0           0.0  \n",
       "1             0.0             0.0            0.0           0.0  \n",
       "2             0.0             0.0            0.0           0.0  \n",
       "3             0.0             0.0            1.0           0.0  \n",
       "4             0.0             0.0            0.0           1.0  \n",
       "\n",
       "[5 rows x 24 columns]"
      ]
     },
     "execution_count": 98,
     "metadata": {},
     "output_type": "execute_result"
    }
   ],
   "source": [
    "### transforming training data into RobustScale \n",
    "### And displaying transformed training data into data frame\n",
    "df_X_train_robust = pd.DataFrame(X_train_robust).rename(columns={i: v \n",
    "                                                for i, v in enumerate(X_data_final.columns)})\n",
    "df_X_train_robust.head()                              "
   ]
  },
  {
   "cell_type": "code",
   "execution_count": 99,
   "id": "3a20de5c",
   "metadata": {
    "colab": {
     "base_uri": "https://localhost:8080/"
    },
    "id": "3a20de5c",
    "outputId": "17e831de-cbc5-46ec-d9a0-7549fe0675d4"
   },
   "outputs": [
    {
     "data": {
      "text/plain": [
       "array([[ 0.   ,  0.   ,  0.   , ...,  0.   ,  1.   ,  0.   ],\n",
       "       [-0.132,  0.   , -1.607, ...,  0.   ,  0.   ,  0.   ],\n",
       "       [ 0.   ,  0.485,  0.743, ...,  0.   ,  0.   ,  0.   ],\n",
       "       ...,\n",
       "       [ 0.061,  0.052, -0.501, ...,  0.   ,  0.   ,  0.   ],\n",
       "       [-1.   ,  0.   , -0.444, ...,  0.   ,  0.   ,  0.   ],\n",
       "       [ 0.   ,  0.   , -0.625, ...,  0.   ,  0.   ,  1.   ]])"
      ]
     },
     "execution_count": 99,
     "metadata": {},
     "output_type": "execute_result"
    }
   ],
   "source": [
    "### transforming testing data into RobustScale for Multiple Linear Regression\n",
    "X_test_robust = np.round(transformer.transform(X_test), 3)\n",
    "X_test_robust\n"
   ]
  },
  {
   "cell_type": "code",
   "execution_count": 100,
   "id": "j8uExKJI4-II",
   "metadata": {
    "colab": {
     "base_uri": "https://localhost:8080/",
     "height": 374
    },
    "id": "j8uExKJI4-II",
    "outputId": "d97989b0-1e43-4cf1-f070-3d96d3c2b680"
   },
   "outputs": [
    {
     "data": {
      "text/html": [
       "<div>\n",
       "<style scoped>\n",
       "    .dataframe tbody tr th:only-of-type {\n",
       "        vertical-align: middle;\n",
       "    }\n",
       "\n",
       "    .dataframe tbody tr th {\n",
       "        vertical-align: top;\n",
       "    }\n",
       "\n",
       "    .dataframe thead th {\n",
       "        text-align: right;\n",
       "    }\n",
       "</style>\n",
       "<table border=\"1\" class=\"dataframe\">\n",
       "  <thead>\n",
       "    <tr style=\"text-align: right;\">\n",
       "      <th></th>\n",
       "      <th>3Y Dividend per Share Growth (per Share)</th>\n",
       "      <th>R&amp;D Expense Growth</th>\n",
       "      <th>Book Value per Share Growth</th>\n",
       "      <th>Gross Profit Growth</th>\n",
       "      <th>Asset Growth</th>\n",
       "      <th>Debt Growth</th>\n",
       "      <th>SG&amp;A Expenses Growth</th>\n",
       "      <th>Earnings before Tax</th>\n",
       "      <th>x0_2014</th>\n",
       "      <th>x0_2015</th>\n",
       "      <th>...</th>\n",
       "      <th>x1_Communication Services</th>\n",
       "      <th>x1_Consumer Cyclical</th>\n",
       "      <th>x1_Consumer Defensive</th>\n",
       "      <th>x1_Energy</th>\n",
       "      <th>x1_Financial Services</th>\n",
       "      <th>x1_Healthcare</th>\n",
       "      <th>x1_Industrials</th>\n",
       "      <th>x1_Real Estate</th>\n",
       "      <th>x1_Technology</th>\n",
       "      <th>x1_Utilities</th>\n",
       "    </tr>\n",
       "  </thead>\n",
       "  <tbody>\n",
       "    <tr>\n",
       "      <th>0</th>\n",
       "      <td>0.000</td>\n",
       "      <td>0.000</td>\n",
       "      <td>0.000</td>\n",
       "      <td>0.000</td>\n",
       "      <td>0.000</td>\n",
       "      <td>0.000</td>\n",
       "      <td>0.000</td>\n",
       "      <td>0.000</td>\n",
       "      <td>0.0</td>\n",
       "      <td>0.0</td>\n",
       "      <td>...</td>\n",
       "      <td>0.0</td>\n",
       "      <td>0.0</td>\n",
       "      <td>0.0</td>\n",
       "      <td>0.0</td>\n",
       "      <td>0.0</td>\n",
       "      <td>0.0</td>\n",
       "      <td>0.0</td>\n",
       "      <td>0.0</td>\n",
       "      <td>1.0</td>\n",
       "      <td>0.0</td>\n",
       "    </tr>\n",
       "    <tr>\n",
       "      <th>1</th>\n",
       "      <td>-0.132</td>\n",
       "      <td>0.000</td>\n",
       "      <td>-1.607</td>\n",
       "      <td>-0.783</td>\n",
       "      <td>-0.721</td>\n",
       "      <td>0.255</td>\n",
       "      <td>-0.373</td>\n",
       "      <td>-4.788</td>\n",
       "      <td>0.0</td>\n",
       "      <td>0.0</td>\n",
       "      <td>...</td>\n",
       "      <td>0.0</td>\n",
       "      <td>0.0</td>\n",
       "      <td>0.0</td>\n",
       "      <td>0.0</td>\n",
       "      <td>1.0</td>\n",
       "      <td>0.0</td>\n",
       "      <td>0.0</td>\n",
       "      <td>0.0</td>\n",
       "      <td>0.0</td>\n",
       "      <td>0.0</td>\n",
       "    </tr>\n",
       "    <tr>\n",
       "      <th>2</th>\n",
       "      <td>0.000</td>\n",
       "      <td>0.485</td>\n",
       "      <td>0.743</td>\n",
       "      <td>-0.647</td>\n",
       "      <td>14.131</td>\n",
       "      <td>6976.620</td>\n",
       "      <td>2.755</td>\n",
       "      <td>0.222</td>\n",
       "      <td>0.0</td>\n",
       "      <td>0.0</td>\n",
       "      <td>...</td>\n",
       "      <td>0.0</td>\n",
       "      <td>0.0</td>\n",
       "      <td>0.0</td>\n",
       "      <td>0.0</td>\n",
       "      <td>0.0</td>\n",
       "      <td>1.0</td>\n",
       "      <td>0.0</td>\n",
       "      <td>0.0</td>\n",
       "      <td>0.0</td>\n",
       "      <td>0.0</td>\n",
       "    </tr>\n",
       "    <tr>\n",
       "      <th>3</th>\n",
       "      <td>0.000</td>\n",
       "      <td>2.038</td>\n",
       "      <td>-2.217</td>\n",
       "      <td>-0.318</td>\n",
       "      <td>0.821</td>\n",
       "      <td>-6.636</td>\n",
       "      <td>4.017</td>\n",
       "      <td>-0.194</td>\n",
       "      <td>0.0</td>\n",
       "      <td>0.0</td>\n",
       "      <td>...</td>\n",
       "      <td>0.0</td>\n",
       "      <td>0.0</td>\n",
       "      <td>0.0</td>\n",
       "      <td>0.0</td>\n",
       "      <td>0.0</td>\n",
       "      <td>1.0</td>\n",
       "      <td>0.0</td>\n",
       "      <td>0.0</td>\n",
       "      <td>0.0</td>\n",
       "      <td>0.0</td>\n",
       "    </tr>\n",
       "    <tr>\n",
       "      <th>4</th>\n",
       "      <td>-1.000</td>\n",
       "      <td>0.000</td>\n",
       "      <td>-1.491</td>\n",
       "      <td>-1.812</td>\n",
       "      <td>-1.578</td>\n",
       "      <td>-1.550</td>\n",
       "      <td>-1.832</td>\n",
       "      <td>1.978</td>\n",
       "      <td>0.0</td>\n",
       "      <td>0.0</td>\n",
       "      <td>...</td>\n",
       "      <td>0.0</td>\n",
       "      <td>0.0</td>\n",
       "      <td>0.0</td>\n",
       "      <td>0.0</td>\n",
       "      <td>0.0</td>\n",
       "      <td>0.0</td>\n",
       "      <td>0.0</td>\n",
       "      <td>0.0</td>\n",
       "      <td>1.0</td>\n",
       "      <td>0.0</td>\n",
       "    </tr>\n",
       "  </tbody>\n",
       "</table>\n",
       "<p>5 rows × 24 columns</p>\n",
       "</div>"
      ],
      "text/plain": [
       "   3Y Dividend per Share Growth (per Share)  R&D Expense Growth  \\\n",
       "0                                     0.000               0.000   \n",
       "1                                    -0.132               0.000   \n",
       "2                                     0.000               0.485   \n",
       "3                                     0.000               2.038   \n",
       "4                                    -1.000               0.000   \n",
       "\n",
       "   Book Value per Share Growth  Gross Profit Growth  Asset Growth  \\\n",
       "0                        0.000                0.000         0.000   \n",
       "1                       -1.607               -0.783        -0.721   \n",
       "2                        0.743               -0.647        14.131   \n",
       "3                       -2.217               -0.318         0.821   \n",
       "4                       -1.491               -1.812        -1.578   \n",
       "\n",
       "   Debt Growth  SG&A Expenses Growth  Earnings before Tax  x0_2014  x0_2015  \\\n",
       "0        0.000                 0.000                0.000      0.0      0.0   \n",
       "1        0.255                -0.373               -4.788      0.0      0.0   \n",
       "2     6976.620                 2.755                0.222      0.0      0.0   \n",
       "3       -6.636                 4.017               -0.194      0.0      0.0   \n",
       "4       -1.550                -1.832                1.978      0.0      0.0   \n",
       "\n",
       "   ...  x1_Communication Services  x1_Consumer Cyclical  \\\n",
       "0  ...                        0.0                   0.0   \n",
       "1  ...                        0.0                   0.0   \n",
       "2  ...                        0.0                   0.0   \n",
       "3  ...                        0.0                   0.0   \n",
       "4  ...                        0.0                   0.0   \n",
       "\n",
       "   x1_Consumer Defensive  x1_Energy  x1_Financial Services  x1_Healthcare  \\\n",
       "0                    0.0        0.0                    0.0            0.0   \n",
       "1                    0.0        0.0                    1.0            0.0   \n",
       "2                    0.0        0.0                    0.0            1.0   \n",
       "3                    0.0        0.0                    0.0            1.0   \n",
       "4                    0.0        0.0                    0.0            0.0   \n",
       "\n",
       "   x1_Industrials  x1_Real Estate  x1_Technology  x1_Utilities  \n",
       "0             0.0             0.0            1.0           0.0  \n",
       "1             0.0             0.0            0.0           0.0  \n",
       "2             0.0             0.0            0.0           0.0  \n",
       "3             0.0             0.0            0.0           0.0  \n",
       "4             0.0             0.0            1.0           0.0  \n",
       "\n",
       "[5 rows x 24 columns]"
      ]
     },
     "execution_count": 100,
     "metadata": {},
     "output_type": "execute_result"
    }
   ],
   "source": [
    "### displaying transformed testing data into data frame\n",
    "df_X_test_robust = pd.DataFrame(X_test_robust).rename(columns={i: v \n",
    "                                                for i, v in enumerate(X_data_final.columns)})\n",
    "df_X_test_robust.head()"
   ]
  },
  {
   "cell_type": "markdown",
   "id": "ek_LudZuMsK1",
   "metadata": {
    "id": "ek_LudZuMsK1"
   },
   "source": [
    "### **Model Training**\n",
    "#### **Multiple Linear regression**\n",
    "LinearRegression fits a linear model with coefficients\n",
    "to minimize the residual sum of squares between the observed targets in the dataset, and the targets predicted by the linear approximation.\n",
    "\n",
    "The coefficient estimates for Ordinary Least Squares rely on the **independence of the features**. When features are correlated and the columns of the design matrix have an approximately **linear dependence**, the design matrix becomes close to singular and as a result, the **least-squares estimate becomes highly sensitive to random errors in the observed target, producing a large variance.** This situation of **multicollinearity **can arise, for example, when **data are collected without an experimental design**.\n",
    "\n",
    "    class sklearn.linear_model.LinearRegression(*, fit_intercept=True,\n",
    "    normalize='deprecated', copy_X=True, n_jobs=None, positive=False)\n",
    "\n",
    "**fit_intercept: default=True**\n",
    "Whether to calculate the intercept for this model. If set to False, no intercept will be used in calculations (i.e. data is expected to be centered).\n",
    "\n",
    "**normalize:, default=False**\n",
    "This parameter is ignored when fit_intercept is set to False. If True, the regressors X will be normalized before regression by subtracting the mean and dividing by the l2-norm. If you wish to standardize, please use StandardScaler before calling fit on an estimator with normalize=False."
   ]
  },
  {
   "cell_type": "code",
   "execution_count": 101,
   "id": "6aa0827a",
   "metadata": {
    "id": "6aa0827a"
   },
   "outputs": [],
   "source": [
    "## Using Multiple Linear Regression Model\n",
    "### fitting training data\n",
    "\n",
    "lin_reg_model = LinearRegression(fit_intercept = False)\n",
    "lin_reg_model.fit(X_train_robust, y_train)\n",
    "coeff_lin_reg = pd.DataFrame(np.round(lin_reg_model.coef_, 3), df_X_train_robust.columns, columns=['LinRegCoefficient'])"
   ]
  },
  {
   "cell_type": "code",
   "execution_count": 102,
   "id": "mkXj59UX-wYI",
   "metadata": {
    "colab": {
     "base_uri": "https://localhost:8080/",
     "height": 206
    },
    "id": "mkXj59UX-wYI",
    "outputId": "665bee0f-6d1b-4696-8499-07ec90e80ad2"
   },
   "outputs": [
    {
     "data": {
      "text/html": [
       "<div>\n",
       "<style scoped>\n",
       "    .dataframe tbody tr th:only-of-type {\n",
       "        vertical-align: middle;\n",
       "    }\n",
       "\n",
       "    .dataframe tbody tr th {\n",
       "        vertical-align: top;\n",
       "    }\n",
       "\n",
       "    .dataframe thead th {\n",
       "        text-align: right;\n",
       "    }\n",
       "</style>\n",
       "<table border=\"1\" class=\"dataframe\">\n",
       "  <thead>\n",
       "    <tr style=\"text-align: right;\">\n",
       "      <th></th>\n",
       "      <th>LinRegCoefficient</th>\n",
       "    </tr>\n",
       "  </thead>\n",
       "  <tbody>\n",
       "    <tr>\n",
       "      <th>x1_Consumer Cyclical</th>\n",
       "      <td>22.860</td>\n",
       "    </tr>\n",
       "    <tr>\n",
       "      <th>x1_Energy</th>\n",
       "      <td>20.263</td>\n",
       "    </tr>\n",
       "    <tr>\n",
       "      <th>x1_Industrials</th>\n",
       "      <td>16.386</td>\n",
       "    </tr>\n",
       "    <tr>\n",
       "      <th>x1_Communication Services</th>\n",
       "      <td>15.041</td>\n",
       "    </tr>\n",
       "    <tr>\n",
       "      <th>x1_Financial Services</th>\n",
       "      <td>-14.322</td>\n",
       "    </tr>\n",
       "  </tbody>\n",
       "</table>\n",
       "</div>"
      ],
      "text/plain": [
       "                           LinRegCoefficient\n",
       "x1_Consumer Cyclical                  22.860\n",
       "x1_Energy                             20.263\n",
       "x1_Industrials                        16.386\n",
       "x1_Communication Services             15.041\n",
       "x1_Financial Services                -14.322"
      ]
     },
     "execution_count": 102,
     "metadata": {},
     "output_type": "execute_result"
    }
   ],
   "source": [
    "## Multiple Linear Model\n",
    "## top 5 coefficients in descending order\n",
    "coeff_lin_5 = coeff_lin_reg.sort_values('LinRegCoefficient', ascending=False, key=abs).head()\n",
    "coeff_lin_5"
   ]
  },
  {
   "cell_type": "code",
   "execution_count": 103,
   "id": "ALj35D1_70qJ",
   "metadata": {
    "id": "ALj35D1_70qJ"
   },
   "outputs": [],
   "source": [
    "## Multiple Linear Model\n",
    "### predicting using test data\n",
    "y_pred_lin = lin_reg_model.predict(X_test_robust)"
   ]
  },
  {
   "cell_type": "code",
   "execution_count": 104,
   "id": "hhKzT6DH8fn0",
   "metadata": {
    "colab": {
     "base_uri": "https://localhost:8080/",
     "height": 297
    },
    "id": "hhKzT6DH8fn0",
    "outputId": "d1fe0331-ace7-4eb6-f479-e61d5e35fe8d"
   },
   "outputs": [
    {
     "data": {
      "text/plain": [
       "Text(0, 0.5, 'y_pred_lin: predicted stock price var [%]')"
      ]
     },
     "execution_count": 104,
     "metadata": {},
     "output_type": "execute_result"
    },
    {
     "data": {
      "image/png": "[encoded data removed]",
      "text/plain": [
       "<Figure size 432x288 with 1 Axes>"
      ]
     },
     "metadata": {
      "needs_background": "light"
     },
     "output_type": "display_data"
    }
   ],
   "source": [
    "## Multiple Linear Model\n",
    "## relationship between actual price var [%]  and the predicted stock price var [%]\n",
    "plt.plot(y_test, y_pred_lin, 'o')\n",
    "plt.xlabel('y_test: actual stock price var [%]')\n",
    "plt.ylabel('y_pred_lin: predicted stock price var [%]')"
   ]
  },
  {
   "cell_type": "code",
   "execution_count": 105,
   "id": "DLfCsiYeT_yr",
   "metadata": {
    "colab": {
     "base_uri": "https://localhost:8080/",
     "height": 81
    },
    "id": "DLfCsiYeT_yr",
    "outputId": "4b8d2cb7-bc82-4f85-b302-bc6bec168dc7"
   },
   "outputs": [
    {
     "data": {
      "text/html": [
       "<div>\n",
       "<style scoped>\n",
       "    .dataframe tbody tr th:only-of-type {\n",
       "        vertical-align: middle;\n",
       "    }\n",
       "\n",
       "    .dataframe tbody tr th {\n",
       "        vertical-align: top;\n",
       "    }\n",
       "\n",
       "    .dataframe thead th {\n",
       "        text-align: right;\n",
       "    }\n",
       "</style>\n",
       "<table border=\"1\" class=\"dataframe\">\n",
       "  <thead>\n",
       "    <tr style=\"text-align: right;\">\n",
       "      <th></th>\n",
       "      <th>LinRegRsq</th>\n",
       "    </tr>\n",
       "  </thead>\n",
       "  <tbody>\n",
       "    <tr>\n",
       "      <th>R_SQUARE</th>\n",
       "      <td>0.074</td>\n",
       "    </tr>\n",
       "  </tbody>\n",
       "</table>\n",
       "</div>"
      ],
      "text/plain": [
       "          LinRegRsq\n",
       "R_SQUARE      0.074"
      ]
     },
     "execution_count": 105,
     "metadata": {},
     "output_type": "execute_result"
    }
   ],
   "source": [
    "# Multiple Linear Model\n",
    "## Model Evaluation\n",
    "\n",
    "## returning the R_Squared: coefficient of determination of the prediction.\n",
    "RSQ_lin_reg = pd.DataFrame(np.round(lin_reg_model.score(X_test_robust, y_test), 3), ['R_SQUARE'], columns =['LinRegRsq'])\n",
    "RSQ_lin_reg"
   ]
  },
  {
   "cell_type": "code",
   "execution_count": 106,
   "id": "BkcovjJo4bx8",
   "metadata": {
    "colab": {
     "base_uri": "https://localhost:8080/",
     "height": 143
    },
    "id": "BkcovjJo4bx8",
    "outputId": "33663398-36bd-4b47-ef42-ad83386ba624"
   },
   "outputs": [
    {
     "data": {
      "text/html": [
       "<div>\n",
       "<style scoped>\n",
       "    .dataframe tbody tr th:only-of-type {\n",
       "        vertical-align: middle;\n",
       "    }\n",
       "\n",
       "    .dataframe tbody tr th {\n",
       "        vertical-align: top;\n",
       "    }\n",
       "\n",
       "    .dataframe thead th {\n",
       "        text-align: right;\n",
       "    }\n",
       "</style>\n",
       "<table border=\"1\" class=\"dataframe\">\n",
       "  <thead>\n",
       "    <tr style=\"text-align: right;\">\n",
       "      <th></th>\n",
       "      <th>LinRegError</th>\n",
       "    </tr>\n",
       "  </thead>\n",
       "  <tbody>\n",
       "    <tr>\n",
       "      <th>MAE</th>\n",
       "      <td>29.771</td>\n",
       "    </tr>\n",
       "    <tr>\n",
       "      <th>MSE</th>\n",
       "      <td>1726.927</td>\n",
       "    </tr>\n",
       "    <tr>\n",
       "      <th>RMSE</th>\n",
       "      <td>41.556</td>\n",
       "    </tr>\n",
       "  </tbody>\n",
       "</table>\n",
       "</div>"
      ],
      "text/plain": [
       "      LinRegError\n",
       "MAE        29.771\n",
       "MSE      1726.927\n",
       "RMSE       41.556"
      ]
     },
     "execution_count": 106,
     "metadata": {},
     "output_type": "execute_result"
    }
   ],
   "source": [
    "## Multiple Linear Regression Model\n",
    "### error analysis\n",
    "from sklearn import metrics\n",
    "\n",
    "# MAE (Mean Absolute Error)\n",
    "MAE_lin = np.round(metrics.mean_absolute_error(y_test, y_pred_lin), 3)\n",
    "\n",
    "# MSE (Mean Squared Error)\n",
    "MSE_lin = np.round(metrics.mean_squared_error(y_test, y_pred_lin), 3)\n",
    "\n",
    "# RMSE (Root Mean Squared Error)\n",
    "RMSE_lin = np.round(np.sqrt(metrics.mean_squared_error(y_test, y_pred_lin)), 3)\n",
    "\n",
    "error_columns = [\"MAE\", \"MSE\", \"RMSE\"]\n",
    "error_lin_reg = pd.DataFrame([MAE_lin, MSE_lin, RMSE_lin], error_columns, columns=['LinRegError'])\n",
    "error_lin_reg"
   ]
  },
  {
   "cell_type": "markdown",
   "id": "vRd1GtQ6Y0kW",
   "metadata": {
    "id": "vRd1GtQ6Y0kW"
   },
   "source": [
    "### **Ridge Regression**\n",
    "The Ridge Regression addresses some of the problems of Ordinary Least Squares (Linear Regression) by imposing a penalty on the size of the coefficients. The ridge coefficients minimize a penalized residual sum of squares: The **complexity parameter (alpha)** controls the amount of shrinkage: the larger the value of **alpha** , the greater the amount of shrinkage and thus the coefficients become more robust to collinearity.\n",
    "\n",
    "#### class sklearn.linear_model.\n",
    "     Ridge(alpha=1.0, *, fit_intercept=True, normalize='deprecated',\n",
    "    copy_X=True, max_iter=None, tol=0.001, solver='auto', positive=False, random_state=None)\n",
    "\n",
    "#### random_state\n",
    "Whenever randomization is part of a Scikit-learn algorithm, a random_state parameter may be provided to control the random number generator used. "
   ]
  },
  {
   "cell_type": "code",
   "execution_count": 107,
   "id": "MXsnb4rr79Vn",
   "metadata": {
    "id": "MXsnb4rr79Vn"
   },
   "outputs": [],
   "source": [
    "## Using Ridge Regression Model\n",
    "### fitting training data\n",
    "rg_reg = Ridge(alpha=1.0, fit_intercept = False, random_state=42)\n",
    "rg_reg.fit(X_train_robust, y_train)\n",
    "coeff_rg_reg = pd.DataFrame(np.round(rg_reg.coef_, 3), df_X_train_robust.columns, columns=['RidgeCoefficient'])\n"
   ]
  },
  {
   "cell_type": "code",
   "execution_count": 108,
   "id": "tBG9TEiKAvb1",
   "metadata": {
    "colab": {
     "base_uri": "https://localhost:8080/",
     "height": 206
    },
    "id": "tBG9TEiKAvb1",
    "outputId": "d2e6c0be-3a4d-4dd5-be96-3ccd3c00dd39"
   },
   "outputs": [
    {
     "data": {
      "text/html": [
       "<div>\n",
       "<style scoped>\n",
       "    .dataframe tbody tr th:only-of-type {\n",
       "        vertical-align: middle;\n",
       "    }\n",
       "\n",
       "    .dataframe tbody tr th {\n",
       "        vertical-align: top;\n",
       "    }\n",
       "\n",
       "    .dataframe thead th {\n",
       "        text-align: right;\n",
       "    }\n",
       "</style>\n",
       "<table border=\"1\" class=\"dataframe\">\n",
       "  <thead>\n",
       "    <tr style=\"text-align: right;\">\n",
       "      <th></th>\n",
       "      <th>RidgeCoefficient</th>\n",
       "    </tr>\n",
       "  </thead>\n",
       "  <tbody>\n",
       "    <tr>\n",
       "      <th>x1_Consumer Cyclical</th>\n",
       "      <td>22.846</td>\n",
       "    </tr>\n",
       "    <tr>\n",
       "      <th>x1_Energy</th>\n",
       "      <td>20.237</td>\n",
       "    </tr>\n",
       "    <tr>\n",
       "      <th>x1_Industrials</th>\n",
       "      <td>16.376</td>\n",
       "    </tr>\n",
       "    <tr>\n",
       "      <th>x1_Communication Services</th>\n",
       "      <td>14.987</td>\n",
       "    </tr>\n",
       "    <tr>\n",
       "      <th>x1_Financial Services</th>\n",
       "      <td>-14.316</td>\n",
       "    </tr>\n",
       "  </tbody>\n",
       "</table>\n",
       "</div>"
      ],
      "text/plain": [
       "                           RidgeCoefficient\n",
       "x1_Consumer Cyclical                 22.846\n",
       "x1_Energy                            20.237\n",
       "x1_Industrials                       16.376\n",
       "x1_Communication Services            14.987\n",
       "x1_Financial Services               -14.316"
      ]
     },
     "execution_count": 108,
     "metadata": {},
     "output_type": "execute_result"
    }
   ],
   "source": [
    "## Ridge Regression Model\n",
    "## top 5 coefficients in descending order\n",
    "coeff_rg_5 = coeff_rg_reg.sort_values('RidgeCoefficient', ascending=False, key=abs).head()\n",
    "coeff_rg_5"
   ]
  },
  {
   "cell_type": "code",
   "execution_count": 109,
   "id": "fPXRoJ799CPN",
   "metadata": {
    "id": "fPXRoJ799CPN"
   },
   "outputs": [],
   "source": [
    "## Ridge Regression Model\n",
    "### predicting using test data\n",
    "y_pred_rg = rg_reg.predict(X_test_robust)"
   ]
  },
  {
   "cell_type": "code",
   "execution_count": 110,
   "id": "T5NzQ8lX9-pH",
   "metadata": {
    "id": "T5NzQ8lX9-pH"
   },
   "outputs": [
    {
     "data": {
      "text/html": [
       "<div>\n",
       "<style scoped>\n",
       "    .dataframe tbody tr th:only-of-type {\n",
       "        vertical-align: middle;\n",
       "    }\n",
       "\n",
       "    .dataframe tbody tr th {\n",
       "        vertical-align: top;\n",
       "    }\n",
       "\n",
       "    .dataframe thead th {\n",
       "        text-align: right;\n",
       "    }\n",
       "</style>\n",
       "<table border=\"1\" class=\"dataframe\">\n",
       "  <thead>\n",
       "    <tr style=\"text-align: right;\">\n",
       "      <th></th>\n",
       "      <th>RidgeRsq</th>\n",
       "    </tr>\n",
       "  </thead>\n",
       "  <tbody>\n",
       "    <tr>\n",
       "      <th>R_SQUARE</th>\n",
       "      <td>0.074</td>\n",
       "    </tr>\n",
       "  </tbody>\n",
       "</table>\n",
       "</div>"
      ],
      "text/plain": [
       "          RidgeRsq\n",
       "R_SQUARE     0.074"
      ]
     },
     "execution_count": 110,
     "metadata": {},
     "output_type": "execute_result"
    }
   ],
   "source": [
    "# Ridge Regression Model\n",
    "## Model Evaluation\n",
    "\n",
    "## returning the R_Squared: coefficient of determination of the prediction.\n",
    "RSQ_rg = pd.DataFrame(np.round(rg_reg.score(X_test_robust, y_test), 3), ['R_SQUARE'], columns =['RidgeRsq'])\n",
    "RSQ_rg"
   ]
  },
  {
   "cell_type": "code",
   "execution_count": 111,
   "id": "l5VQ6Nmm4xEE",
   "metadata": {
    "colab": {
     "base_uri": "https://localhost:8080/",
     "height": 143
    },
    "id": "l5VQ6Nmm4xEE",
    "outputId": "5fa78414-6d2d-40a1-d061-b7bb4075d357"
   },
   "outputs": [
    {
     "data": {
      "text/html": [
       "<div>\n",
       "<style scoped>\n",
       "    .dataframe tbody tr th:only-of-type {\n",
       "        vertical-align: middle;\n",
       "    }\n",
       "\n",
       "    .dataframe tbody tr th {\n",
       "        vertical-align: top;\n",
       "    }\n",
       "\n",
       "    .dataframe thead th {\n",
       "        text-align: right;\n",
       "    }\n",
       "</style>\n",
       "<table border=\"1\" class=\"dataframe\">\n",
       "  <thead>\n",
       "    <tr style=\"text-align: right;\">\n",
       "      <th></th>\n",
       "      <th>RidgeError</th>\n",
       "    </tr>\n",
       "  </thead>\n",
       "  <tbody>\n",
       "    <tr>\n",
       "      <th>MAE</th>\n",
       "      <td>29.770</td>\n",
       "    </tr>\n",
       "    <tr>\n",
       "      <th>MSE</th>\n",
       "      <td>1726.921</td>\n",
       "    </tr>\n",
       "    <tr>\n",
       "      <th>RMSE</th>\n",
       "      <td>41.556</td>\n",
       "    </tr>\n",
       "  </tbody>\n",
       "</table>\n",
       "</div>"
      ],
      "text/plain": [
       "      RidgeError\n",
       "MAE       29.770\n",
       "MSE     1726.921\n",
       "RMSE      41.556"
      ]
     },
     "execution_count": 111,
     "metadata": {},
     "output_type": "execute_result"
    }
   ],
   "source": [
    "## Ridge Regression Model\n",
    "### error analysis\n",
    "\n",
    "# MAE (Mean Absolute Error)\n",
    "MAE_rg = np.round(metrics.mean_absolute_error(y_test, y_pred_rg), 3)\n",
    "\n",
    "# MSE (Mean Squared Error)\n",
    "MSE_rg = np.round(metrics.mean_squared_error(y_test, y_pred_rg), 3)\n",
    "\n",
    "# RMSE (Root Mean Squared Error)\n",
    "RMSE_rg = np.round(np.sqrt(metrics.mean_squared_error(y_test, y_pred_rg)), 3)\n",
    "\n",
    "error_columns = [\"MAE\", \"MSE\", \"RMSE\"]\n",
    "error_rg = pd.DataFrame([MAE_rg, MSE_rg, RMSE_rg], error_columns, columns=['RidgeError'])\n",
    "error_rg"
   ]
  },
  {
   "cell_type": "markdown",
   "id": "8Ltoz4mPfwEI",
   "metadata": {
    "id": "8Ltoz4mPfwEI"
   },
   "source": [
    "### **Lasso**\n",
    "The Lasso is a linear model that **estimates sparse coefficients**. It is **useful in contexts due to its tendency to prefer solutions with fewer non-zero coefficients,** effectively reducing the number of features upon which the given solution is dependent. For this reason, Lasso and its variants are f**undamental to the field of compressed sensing**. Under certain conditions, it **can recover the exact set of non-zero coefficients.** The lasso estimate thus **solves the minimization of the least-squares penalty with added term (sum of absolute value of weights)**"
   ]
  },
  {
   "cell_type": "code",
   "execution_count": 112,
   "id": "BxDBMeX8EJIH",
   "metadata": {
    "id": "BxDBMeX8EJIH"
   },
   "outputs": [],
   "source": [
    "## Using Lasso Regression Model\n",
    "### fitting training data\n",
    "ls_reg = Lasso(alpha=1, fit_intercept=False, random_state= 42)\n",
    "ls_reg.fit(X_train_robust, y_train)\n",
    "coeff_ls_reg = pd.DataFrame(np.round(ls_reg.coef_, 3), df_X_train_robust.columns, columns=['LassoCoefficient'])\n"
   ]
  },
  {
   "cell_type": "code",
   "execution_count": 113,
   "id": "Wm4EFtk7E5xH",
   "metadata": {
    "colab": {
     "base_uri": "https://localhost:8080/",
     "height": 206
    },
    "id": "Wm4EFtk7E5xH",
    "outputId": "13b26677-3e95-4cd4-b0c0-3303c7d424cd"
   },
   "outputs": [
    {
     "data": {
      "text/html": [
       "<div>\n",
       "<style scoped>\n",
       "    .dataframe tbody tr th:only-of-type {\n",
       "        vertical-align: middle;\n",
       "    }\n",
       "\n",
       "    .dataframe tbody tr th {\n",
       "        vertical-align: top;\n",
       "    }\n",
       "\n",
       "    .dataframe thead th {\n",
       "        text-align: right;\n",
       "    }\n",
       "</style>\n",
       "<table border=\"1\" class=\"dataframe\">\n",
       "  <thead>\n",
       "    <tr style=\"text-align: right;\">\n",
       "      <th></th>\n",
       "      <th>LassoCoefficient</th>\n",
       "    </tr>\n",
       "  </thead>\n",
       "  <tbody>\n",
       "    <tr>\n",
       "      <th>x1_Consumer Cyclical</th>\n",
       "      <td>13.796</td>\n",
       "    </tr>\n",
       "    <tr>\n",
       "      <th>x1_Financial Services</th>\n",
       "      <td>-7.710</td>\n",
       "    </tr>\n",
       "    <tr>\n",
       "      <th>x1_Industrials</th>\n",
       "      <td>7.345</td>\n",
       "    </tr>\n",
       "    <tr>\n",
       "      <th>x0_2014</th>\n",
       "      <td>-7.162</td>\n",
       "    </tr>\n",
       "    <tr>\n",
       "      <th>x1_Energy</th>\n",
       "      <td>0.709</td>\n",
       "    </tr>\n",
       "  </tbody>\n",
       "</table>\n",
       "</div>"
      ],
      "text/plain": [
       "                       LassoCoefficient\n",
       "x1_Consumer Cyclical             13.796\n",
       "x1_Financial Services            -7.710\n",
       "x1_Industrials                    7.345\n",
       "x0_2014                          -7.162\n",
       "x1_Energy                         0.709"
      ]
     },
     "execution_count": 113,
     "metadata": {},
     "output_type": "execute_result"
    }
   ],
   "source": [
    "## Lasso Regression Model\n",
    "## top 5 coefficients in descending order\n",
    "coeff_ls_5 = coeff_ls_reg.sort_values('LassoCoefficient', ascending=False, key=abs).head()\n",
    "coeff_ls_5"
   ]
  },
  {
   "cell_type": "code",
   "execution_count": 114,
   "id": "dpFOORLPFIzT",
   "metadata": {
    "id": "dpFOORLPFIzT"
   },
   "outputs": [],
   "source": [
    "## Lasso Regression Model\n",
    "### predicting using test data\n",
    "y_pred_ls = ls_reg.predict(X_test_robust)"
   ]
  },
  {
   "cell_type": "code",
   "execution_count": 115,
   "id": "kYpKUL4NEWe1",
   "metadata": {
    "colab": {
     "base_uri": "https://localhost:8080/",
     "height": 81
    },
    "id": "kYpKUL4NEWe1",
    "outputId": "527a910e-5828-4015-e788-d90ae9adbca5"
   },
   "outputs": [
    {
     "data": {
      "text/html": [
       "<div>\n",
       "<style scoped>\n",
       "    .dataframe tbody tr th:only-of-type {\n",
       "        vertical-align: middle;\n",
       "    }\n",
       "\n",
       "    .dataframe tbody tr th {\n",
       "        vertical-align: top;\n",
       "    }\n",
       "\n",
       "    .dataframe thead th {\n",
       "        text-align: right;\n",
       "    }\n",
       "</style>\n",
       "<table border=\"1\" class=\"dataframe\">\n",
       "  <thead>\n",
       "    <tr style=\"text-align: right;\">\n",
       "      <th></th>\n",
       "      <th>LassoRsq</th>\n",
       "    </tr>\n",
       "  </thead>\n",
       "  <tbody>\n",
       "    <tr>\n",
       "      <th>R_SQUARE</th>\n",
       "      <td>0.038</td>\n",
       "    </tr>\n",
       "  </tbody>\n",
       "</table>\n",
       "</div>"
      ],
      "text/plain": [
       "          LassoRsq\n",
       "R_SQUARE     0.038"
      ]
     },
     "execution_count": 115,
     "metadata": {},
     "output_type": "execute_result"
    }
   ],
   "source": [
    "# Lasso Regression Model\n",
    "## Model Evaluation\n",
    "\n",
    "## returning the R_Squared: coefficient of determination of the prediction.\n",
    "RSQ_ls = pd.DataFrame(np.round(ls_reg.score(X_test_robust, y_test), 3), ['R_SQUARE'], columns =['LassoRsq'])\n",
    "RSQ_ls"
   ]
  },
  {
   "cell_type": "code",
   "execution_count": 116,
   "id": "DZ8WnRA85Xr4",
   "metadata": {
    "colab": {
     "base_uri": "https://localhost:8080/",
     "height": 143
    },
    "id": "DZ8WnRA85Xr4",
    "outputId": "6eca9cba-9461-430d-bf64-350a80e26fab"
   },
   "outputs": [
    {
     "data": {
      "text/html": [
       "<div>\n",
       "<style scoped>\n",
       "    .dataframe tbody tr th:only-of-type {\n",
       "        vertical-align: middle;\n",
       "    }\n",
       "\n",
       "    .dataframe tbody tr th {\n",
       "        vertical-align: top;\n",
       "    }\n",
       "\n",
       "    .dataframe thead th {\n",
       "        text-align: right;\n",
       "    }\n",
       "</style>\n",
       "<table border=\"1\" class=\"dataframe\">\n",
       "  <thead>\n",
       "    <tr style=\"text-align: right;\">\n",
       "      <th></th>\n",
       "      <th>LassoError</th>\n",
       "    </tr>\n",
       "  </thead>\n",
       "  <tbody>\n",
       "    <tr>\n",
       "      <th>MAE</th>\n",
       "      <td>30.308</td>\n",
       "    </tr>\n",
       "    <tr>\n",
       "      <th>MSE</th>\n",
       "      <td>1794.723</td>\n",
       "    </tr>\n",
       "    <tr>\n",
       "      <th>RMSE</th>\n",
       "      <td>42.364</td>\n",
       "    </tr>\n",
       "  </tbody>\n",
       "</table>\n",
       "</div>"
      ],
      "text/plain": [
       "      LassoError\n",
       "MAE       30.308\n",
       "MSE     1794.723\n",
       "RMSE      42.364"
      ]
     },
     "execution_count": 116,
     "metadata": {},
     "output_type": "execute_result"
    }
   ],
   "source": [
    "## Lasso Regression Model\n",
    "### error analysis\n",
    "\n",
    "# MAE (Mean Absolute Error)\n",
    "MAE_ls = np.round(metrics.mean_absolute_error(y_test, y_pred_ls), 3)\n",
    "\n",
    "# MSE (Mean Squared Error)\n",
    "MSE_ls = np.round(metrics.mean_squared_error(y_test, y_pred_ls), 3)\n",
    "\n",
    "# RMSE (Root Mean Squared Error)\n",
    "RMSE_ls = np.round(np.sqrt(metrics.mean_squared_error(y_test, y_pred_ls)), 3)\n",
    "\n",
    "error_columns = [\"MAE\", \"MSE\", \"RMSE\"]\n",
    "error_ls = pd.DataFrame([MAE_ls, MSE_ls, RMSE_ls], error_columns, columns=['LassoError'])\n",
    "error_ls"
   ]
  },
  {
   "cell_type": "markdown",
   "id": "ZfuYvWOfdBDh",
   "metadata": {
    "id": "ZfuYvWOfdBDh"
   },
   "source": [
    "### **Polynomial Features**\n",
    "\n",
    "> where the relationship between the feature(s) and the target variable can’t be best described with a straight line.\n",
    "\n",
    "\n",
    "> linear regression is just a first-degree polynomial. Polynomial regression uses higher-degree polynomials. Both of them are linear models, but the first results in a straight line, the latter gives you a curved line.\n",
    "\n",
    "PolynomialFeatures(degree=2, *, interaction_only=False, include_bias=True, order='C')\n",
    "\n",
    "degree default=2\n",
    "\n",
    "interaction_only, default=False If True, only interaction features are produced: features that are products of at most degree distinct input features, i.e. terms with power of 2 or higher of the same input feature are excluded:\n",
    "\n",
    "included: x[0], x[1], x[0] * x[1], etc.\n",
    "\n",
    "excluded: x[0] ** 2, x[0] ** 2 * x[1], etc.\n",
    "\n",
    "include_bias, default=True If True (default), then include a bias column, the feature in which all polynomial powers are zero (i.e. a column of ones - acts as an intercept term in a linear model).\n"
   ]
  },
  {
   "cell_type": "code",
   "execution_count": 117,
   "id": "GtF6_Nifb0jL",
   "metadata": {
    "id": "GtF6_Nifb0jL"
   },
   "outputs": [],
   "source": [
    "## Using Polynomial Regression\n",
    "# transforming data into polynomial features\n",
    "# splitting into training and testing data\n",
    "poly = PolynomialFeatures(degree=2, interaction_only=False, include_bias=False)\n",
    "poly_features = poly.fit_transform(X_data_final)\n",
    "X_Ptrain, X_Ptest, y_Ptrain, y_Ptest = train_test_split(poly_features, y_data, test_size=0.3, random_state=42)"
   ]
  },
  {
   "cell_type": "code",
   "execution_count": 118,
   "id": "16Pu56Mmg0WJ",
   "metadata": {
    "id": "16Pu56Mmg0WJ"
   },
   "outputs": [],
   "source": [
    "#### Data Preprocessing\n",
    "## standardizing the training data for Polynomial Regression\n",
    "## using RobustScaler\n",
    "### fitting training data\n",
    "from sklearn.preprocessing import RobustScaler\n",
    "transformer = RobustScaler(quantile_range=(25.0, 75.0)).fit(X_Ptrain)"
   ]
  },
  {
   "cell_type": "code",
   "execution_count": 119,
   "id": "OZlU-l05g4R2",
   "metadata": {
    "id": "OZlU-l05g4R2"
   },
   "outputs": [],
   "source": [
    "X_Ptrain_robust = np.round(transformer.transform(X_Ptrain), 3)\n",
    "df_X_Ptrain_robust = pd.DataFrame(X_Ptrain_robust).rename(columns={i: v \n",
    "                                                for i, v in enumerate(X_data_final.columns)})"
   ]
  },
  {
   "cell_type": "code",
   "execution_count": 120,
   "id": "dEqYxHg_hGal",
   "metadata": {
    "id": "dEqYxHg_hGal"
   },
   "outputs": [],
   "source": [
    "# transforming testing data for polynomial regression\n",
    "# using RobustScaler\n",
    "X_Ptest_robust = np.round(transformer.transform(X_Ptest), 3)\n",
    "df_X_Ptest_robust = pd.DataFrame(X_Ptest_robust).rename(columns={i: v \n",
    "                                                for i, v in enumerate(X_data_final.columns)})"
   ]
  },
  {
   "cell_type": "code",
   "execution_count": 121,
   "id": "yRsWuXjcb3II",
   "metadata": {
    "colab": {
     "base_uri": "https://localhost:8080/"
    },
    "id": "yRsWuXjcb3II",
    "outputId": "21f1b967-e867-4a43-e810-c4f2aad1fe57"
   },
   "outputs": [
    {
     "data": {
      "text/plain": [
       "LinearRegression()"
      ]
     },
     "execution_count": 121,
     "metadata": {},
     "output_type": "execute_result"
    }
   ],
   "source": [
    "poly_reg_model = LinearRegression()\n",
    "poly_reg_model.fit(X_Ptrain_robust, y_Ptrain)"
   ]
  },
  {
   "cell_type": "code",
   "execution_count": 122,
   "id": "SSeRZgJkcQca",
   "metadata": {
    "id": "SSeRZgJkcQca"
   },
   "outputs": [
    {
     "data": {
      "text/html": [
       "<div>\n",
       "<style scoped>\n",
       "    .dataframe tbody tr th:only-of-type {\n",
       "        vertical-align: middle;\n",
       "    }\n",
       "\n",
       "    .dataframe tbody tr th {\n",
       "        vertical-align: top;\n",
       "    }\n",
       "\n",
       "    .dataframe thead th {\n",
       "        text-align: right;\n",
       "    }\n",
       "</style>\n",
       "<table border=\"1\" class=\"dataframe\">\n",
       "  <thead>\n",
       "    <tr style=\"text-align: right;\">\n",
       "      <th></th>\n",
       "      <th>PolyCoefficient</th>\n",
       "    </tr>\n",
       "  </thead>\n",
       "  <tbody>\n",
       "    <tr>\n",
       "      <th>3Y Dividend per Share Growth (per Share)</th>\n",
       "      <td>19514.927</td>\n",
       "    </tr>\n",
       "    <tr>\n",
       "      <th>32</th>\n",
       "      <td>-16514.534</td>\n",
       "    </tr>\n",
       "    <tr>\n",
       "      <th>33</th>\n",
       "      <td>-16509.015</td>\n",
       "    </tr>\n",
       "    <tr>\n",
       "      <th>138</th>\n",
       "      <td>-9346.351</td>\n",
       "    </tr>\n",
       "    <tr>\n",
       "      <th>119</th>\n",
       "      <td>-3838.237</td>\n",
       "    </tr>\n",
       "  </tbody>\n",
       "</table>\n",
       "</div>"
      ],
      "text/plain": [
       "                                          PolyCoefficient\n",
       "3Y Dividend per Share Growth (per Share)        19514.927\n",
       "32                                             -16514.534\n",
       "33                                             -16509.015\n",
       "138                                             -9346.351\n",
       "119                                             -3838.237"
      ]
     },
     "execution_count": 122,
     "metadata": {},
     "output_type": "execute_result"
    }
   ],
   "source": [
    "## Poly Regression Model\n",
    "## top 5 coefficients in descending order\n",
    "coeff_poly_reg = pd.DataFrame(np.round(poly_reg_model.coef_, 3), df_X_Ptrain_robust.columns, columns=['PolyCoefficient'])\n",
    "coeff_poly_5 = coeff_poly_reg.sort_values('PolyCoefficient', ascending=False, key=abs).head()\n",
    "coeff_poly_5"
   ]
  },
  {
   "cell_type": "code",
   "execution_count": 123,
   "id": "-wM-wTtQtSUX",
   "metadata": {
    "colab": {
     "base_uri": "https://localhost:8080/",
     "height": 81
    },
    "id": "-wM-wTtQtSUX",
    "outputId": "96560bbd-4edb-4bdd-e01a-c762a5796417"
   },
   "outputs": [
    {
     "data": {
      "text/html": [
       "<div>\n",
       "<style scoped>\n",
       "    .dataframe tbody tr th:only-of-type {\n",
       "        vertical-align: middle;\n",
       "    }\n",
       "\n",
       "    .dataframe tbody tr th {\n",
       "        vertical-align: top;\n",
       "    }\n",
       "\n",
       "    .dataframe thead th {\n",
       "        text-align: right;\n",
       "    }\n",
       "</style>\n",
       "<table border=\"1\" class=\"dataframe\">\n",
       "  <thead>\n",
       "    <tr style=\"text-align: right;\">\n",
       "      <th></th>\n",
       "      <th>PolyRsq</th>\n",
       "    </tr>\n",
       "  </thead>\n",
       "  <tbody>\n",
       "    <tr>\n",
       "      <th>R_SQUARE</th>\n",
       "      <td>-1.435</td>\n",
       "    </tr>\n",
       "  </tbody>\n",
       "</table>\n",
       "</div>"
      ],
      "text/plain": [
       "          PolyRsq\n",
       "R_SQUARE   -1.435"
      ]
     },
     "execution_count": 123,
     "metadata": {},
     "output_type": "execute_result"
    }
   ],
   "source": [
    "#  Poly Regression Model\n",
    "## Model Evaluation\n",
    "\n",
    "## returning the R_Squared: coefficient of determination of the prediction (accuracy)\n",
    "RSQ_poly = pd.DataFrame(np.round(poly_reg_model.score(X_Ptest_robust, y_Ptest), 3), ['R_SQUARE'], columns =['PolyRsq'])\n",
    "RSQ_poly"
   ]
  },
  {
   "cell_type": "code",
   "execution_count": 124,
   "id": "teEc7OtTkaHG",
   "metadata": {
    "id": "teEc7OtTkaHG"
   },
   "outputs": [],
   "source": [
    "poly_reg_y_predicted = poly_reg_model.predict(X_Ptest_robust)\n"
   ]
  },
  {
   "cell_type": "code",
   "execution_count": 125,
   "id": "tM17oOBVjhTL",
   "metadata": {
    "colab": {
     "base_uri": "https://localhost:8080/",
     "height": 143
    },
    "id": "tM17oOBVjhTL",
    "outputId": "1e2d8c48-3c34-41ad-eaec-3846f5077982"
   },
   "outputs": [
    {
     "data": {
      "text/html": [
       "<div>\n",
       "<style scoped>\n",
       "    .dataframe tbody tr th:only-of-type {\n",
       "        vertical-align: middle;\n",
       "    }\n",
       "\n",
       "    .dataframe tbody tr th {\n",
       "        vertical-align: top;\n",
       "    }\n",
       "\n",
       "    .dataframe thead th {\n",
       "        text-align: right;\n",
       "    }\n",
       "</style>\n",
       "<table border=\"1\" class=\"dataframe\">\n",
       "  <thead>\n",
       "    <tr style=\"text-align: right;\">\n",
       "      <th></th>\n",
       "      <th>PolyError</th>\n",
       "    </tr>\n",
       "  </thead>\n",
       "  <tbody>\n",
       "    <tr>\n",
       "      <th>MAE</th>\n",
       "      <td>30.308</td>\n",
       "    </tr>\n",
       "    <tr>\n",
       "      <th>MSE</th>\n",
       "      <td>1794.723</td>\n",
       "    </tr>\n",
       "    <tr>\n",
       "      <th>RMSE</th>\n",
       "      <td>42.364</td>\n",
       "    </tr>\n",
       "  </tbody>\n",
       "</table>\n",
       "</div>"
      ],
      "text/plain": [
       "      PolyError\n",
       "MAE      30.308\n",
       "MSE    1794.723\n",
       "RMSE     42.364"
      ]
     },
     "execution_count": 125,
     "metadata": {},
     "output_type": "execute_result"
    }
   ],
   "source": [
    "## Poly Regression Model\n",
    "### error analysis\n",
    "\n",
    "# MAE (Mean Absolute Error)\n",
    "MAE_poly = np.round(metrics.mean_absolute_error(y_Ptest, poly_reg_y_predicted), 3)\n",
    "\n",
    "# MSE (Mean Squared Error)\n",
    "MSE_poly = np.round(metrics.mean_squared_error(y_Ptest, poly_reg_y_predicted), 3)\n",
    "\n",
    "# RMSE (Root Mean Squared Error)\n",
    "RMSE_poly = np.round(np.sqrt(metrics.mean_squared_error(y_Ptest, poly_reg_y_predicted)), 3)\n",
    "\n",
    "error_columns = [\"MAE\", \"MSE\", \"RMSE\"]\n",
    "error_poly = pd.DataFrame([MAE_ls, MSE_ls, RMSE_ls], error_columns, columns=['PolyError'])\n",
    "error_poly"
   ]
  },
  {
   "cell_type": "markdown",
   "id": "W1ka6EKAZDbZ",
   "metadata": {
    "id": "W1ka6EKAZDbZ"
   },
   "source": [
    "## **Observation/Conclusion for This Task**"
   ]
  },
  {
   "cell_type": "code",
   "execution_count": 126,
   "id": "7ESA42lNHCZX",
   "metadata": {
    "colab": {
     "base_uri": "https://localhost:8080/",
     "height": 457
    },
    "id": "7ESA42lNHCZX",
    "outputId": "dae23a68-559c-4466-e567-4a4e0883404b"
   },
   "outputs": [
    {
     "data": {
      "text/html": [
       "<div>\n",
       "<style scoped>\n",
       "    .dataframe tbody tr th:only-of-type {\n",
       "        vertical-align: middle;\n",
       "    }\n",
       "\n",
       "    .dataframe tbody tr th {\n",
       "        vertical-align: top;\n",
       "    }\n",
       "\n",
       "    .dataframe thead th {\n",
       "        text-align: right;\n",
       "    }\n",
       "</style>\n",
       "<table border=\"1\" class=\"dataframe\">\n",
       "  <thead>\n",
       "    <tr style=\"text-align: right;\">\n",
       "      <th></th>\n",
       "      <th>LinRegCoefficient</th>\n",
       "      <th>RidgeCoefficient</th>\n",
       "      <th>LassoCoefficient</th>\n",
       "      <th>PolyCoefficient</th>\n",
       "    </tr>\n",
       "  </thead>\n",
       "  <tbody>\n",
       "    <tr>\n",
       "      <th>x1_Consumer Cyclical</th>\n",
       "      <td>22.860</td>\n",
       "      <td>22.846</td>\n",
       "      <td>13.796</td>\n",
       "      <td>NaN</td>\n",
       "    </tr>\n",
       "    <tr>\n",
       "      <th>x1_Energy</th>\n",
       "      <td>20.263</td>\n",
       "      <td>20.237</td>\n",
       "      <td>0.709</td>\n",
       "      <td>NaN</td>\n",
       "    </tr>\n",
       "    <tr>\n",
       "      <th>x1_Industrials</th>\n",
       "      <td>16.386</td>\n",
       "      <td>16.376</td>\n",
       "      <td>7.345</td>\n",
       "      <td>NaN</td>\n",
       "    </tr>\n",
       "    <tr>\n",
       "      <th>x1_Communication Services</th>\n",
       "      <td>15.041</td>\n",
       "      <td>14.987</td>\n",
       "      <td>NaN</td>\n",
       "      <td>NaN</td>\n",
       "    </tr>\n",
       "    <tr>\n",
       "      <th>x1_Financial Services</th>\n",
       "      <td>-14.322</td>\n",
       "      <td>-14.316</td>\n",
       "      <td>-7.710</td>\n",
       "      <td>NaN</td>\n",
       "    </tr>\n",
       "    <tr>\n",
       "      <th>x0_2014</th>\n",
       "      <td>NaN</td>\n",
       "      <td>NaN</td>\n",
       "      <td>-7.162</td>\n",
       "      <td>NaN</td>\n",
       "    </tr>\n",
       "    <tr>\n",
       "      <th>3Y Dividend per Share Growth (per Share)</th>\n",
       "      <td>NaN</td>\n",
       "      <td>NaN</td>\n",
       "      <td>NaN</td>\n",
       "      <td>19514.927</td>\n",
       "    </tr>\n",
       "    <tr>\n",
       "      <th>32</th>\n",
       "      <td>NaN</td>\n",
       "      <td>NaN</td>\n",
       "      <td>NaN</td>\n",
       "      <td>-16514.534</td>\n",
       "    </tr>\n",
       "    <tr>\n",
       "      <th>33</th>\n",
       "      <td>NaN</td>\n",
       "      <td>NaN</td>\n",
       "      <td>NaN</td>\n",
       "      <td>-16509.015</td>\n",
       "    </tr>\n",
       "    <tr>\n",
       "      <th>138</th>\n",
       "      <td>NaN</td>\n",
       "      <td>NaN</td>\n",
       "      <td>NaN</td>\n",
       "      <td>-9346.351</td>\n",
       "    </tr>\n",
       "    <tr>\n",
       "      <th>119</th>\n",
       "      <td>NaN</td>\n",
       "      <td>NaN</td>\n",
       "      <td>NaN</td>\n",
       "      <td>-3838.237</td>\n",
       "    </tr>\n",
       "  </tbody>\n",
       "</table>\n",
       "</div>"
      ],
      "text/plain": [
       "                                          LinRegCoefficient  RidgeCoefficient  \\\n",
       "x1_Consumer Cyclical                                 22.860            22.846   \n",
       "x1_Energy                                            20.263            20.237   \n",
       "x1_Industrials                                       16.386            16.376   \n",
       "x1_Communication Services                            15.041            14.987   \n",
       "x1_Financial Services                               -14.322           -14.316   \n",
       "x0_2014                                                 NaN               NaN   \n",
       "3Y Dividend per Share Growth (per Share)                NaN               NaN   \n",
       "32                                                      NaN               NaN   \n",
       "33                                                      NaN               NaN   \n",
       "138                                                     NaN               NaN   \n",
       "119                                                     NaN               NaN   \n",
       "\n",
       "                                          LassoCoefficient  PolyCoefficient  \n",
       "x1_Consumer Cyclical                                13.796              NaN  \n",
       "x1_Energy                                            0.709              NaN  \n",
       "x1_Industrials                                       7.345              NaN  \n",
       "x1_Communication Services                              NaN              NaN  \n",
       "x1_Financial Services                               -7.710              NaN  \n",
       "x0_2014                                             -7.162              NaN  \n",
       "3Y Dividend per Share Growth (per Share)               NaN        19514.927  \n",
       "32                                                     NaN       -16514.534  \n",
       "33                                                     NaN       -16509.015  \n",
       "138                                                    NaN        -9346.351  \n",
       "119                                                    NaN        -3838.237  "
      ]
     },
     "execution_count": 126,
     "metadata": {},
     "output_type": "execute_result"
    }
   ],
   "source": [
    "## Observation/Conclusion for This Task\n",
    "### Model wise top coefficient features \n",
    "pd.concat([coeff_lin_5, coeff_rg_5, coeff_ls_5, coeff_poly_5], axis=1)"
   ]
  },
  {
   "cell_type": "markdown",
   "id": "SKWr4zaYjaX0",
   "metadata": {
    "id": "SKWr4zaYjaX0"
   },
   "source": [
    "\n",
    "#### **Interpret the model performance top coefficient features for each class:** \n",
    "##### **Multiple Linear Regression**: top coefficients features\n",
    "Assuming that all the other features remain constant (conditional dependence), \n",
    "1. for any year financial indicators, on average stock price for Consumer Cyclical sector company is expected to go up by 22.86 % next year.\n",
    "2. for any year financial indicators, on average stock price for Energy sector company is expected to go up by \n",
    "20.26 % next year.\n",
    "3. for any year financial indicators, on average stock price for industrial sector company is expected to go up by 16.39 % next year.\n",
    "4. for any year financial indicators, on average stock price for communication services  sector company is expected to go up by 15.04 % next year.\n",
    "5. for any year financial indicators, on average stock price for financial services sector company is expected to fall by 14.32 % next year.\n",
    "\n",
    "\n",
    "> **Linear regression is the most basic form of medel, where the model is not penalized for its choice of weights, at all. That means, during the training stage, if the model feels like one particular feature is particularly important, the model may place a large weight (i.e. large feature coefficient) to the feature. This sometimes leads to overfitting in small datasets. Ridge and Lasso regression are some of the simple techniques to reduce model complexity and prevent over-fitting which may result from simple linear regression.**\n",
    "\n",
    "\n",
    "\n",
    "##### **Ridge Regression**: top coefficients features\n",
    "Almost same trend (with minor variation in %) is expected with ridge regression modeling\n",
    "\n",
    "\n",
    "\n",
    "> **Ridge takes a step further and penalizes the model for the sum of squared value of the weights. Thus, the weights not only tend to have smaller absolute values, but also really tend to penalize the extremes of the weights, resulting in a group of weights (i.e feature coefficients) that are more evenly distributed. Ridge tends to give small but well distributed weights, because the l2: ridge regularization cares more about driving big weight to small weights, instead of driving small weights to zeros. If we only have a few predictors or features, and we are confident that all of them should be really relevant for predictions, try Ridge Regression Model as a good regularized linear regression method. So, ridge regression shrinks the coefficients and it helps to reduce the model complexity and multi-collinearity.  Ridge regression decreases the complexity of a model but does not reduce the number of variables since it never leads to a coefficient been zero rather only minimizes it. Hence, this model is not good for feature reduction.**\n",
    "\n",
    "\n",
    "##### **Lasso Linear**: top coefficients features\n",
    "Assuming that all the other features remain constant (conditional dependence),\n",
    "1. for any year financial indicators, on average stock price for Consumer Cyclical sector company is expected to go up by 13.8 % next year.\n",
    "2. for any year financial indicators, on average stock price for Energy sector company is expected to go up by 0.71 % next year.\n",
    "3. for any year financial indicators, on average stock price for industrial sector company is expected to go up by 7.35 % next year.\n",
    "\n",
    "\n",
    "> **Lasso is a modification of linear regression, where the model is penalized for the sum of absolute values of the weights. Thus, in general, the absolute values of weight will be reduced, and many will tend to be zeros. Lasso introduced a new parameter, alpha, the coefficient to penalize weights. Lasso tends to give sparse weights (most zeros), because the l1: lasso regularization cares equally about driving down big weights to small weights, or driving small weights to zeros. If we have a lot of predictors (features), and we suspect that not all of them are that important, Lasso Regression Model may be really good idea to begin with. So Lasso regression not only helps in reducing over-fitting but it can help us in feature selection. Lasso sometimes struggles with some types of data. If the number of features is greater than the number of observations(n), Lasso will pick at most n features as non-zero, even if all predictors are relevant. If there are two or more highly collinear variables then LASSO regression select one of them randomly which is not good for the interpretation of data.** \n",
    "\n"
   ]
  },
  {
   "cell_type": "markdown",
   "id": "snjsIOAy6CWZ",
   "metadata": {
    "id": "snjsIOAy6CWZ"
   },
   "source": [
    "### **Show Examples Where the Model Fails**"
   ]
  },
  {
   "cell_type": "markdown",
   "id": "vykI_nhuTa6s",
   "metadata": {
    "id": "vykI_nhuTa6s"
   },
   "source": []
  },
  {
   "cell_type": "markdown",
   "id": "JyRxebJTZ2IW",
   "metadata": {
    "id": "JyRxebJTZ2IW"
   },
   "source": [
    "### Examples Where the Model Fails:\n",
    "\n",
    "*   **Nonconstant variance and weighted least squares:** For example, if the residual variance increases with the fitted values, then prediction intervals will tend to be wider than they should be at low fitted values and narrower than they should be at high fitted values.\n",
    "*   **Autocorrelation and time series methods:** when the sample data have been collected over time and the regression model fails to effectively capture any time trends. In such a circumstance, the random errors in the model are often positively correlated over time, so that each random error is more likely to be similar to the previous random error that it would be if the random errors were independent of one another. This phenomenon is known as autocorrelation.\n",
    "*   **Multicollinearity**, which exists when two or more of the predictors in a regression model are moderately or highly correlated with one another.\n",
    "*   **Overfitting**\n",
    "*   **Excluding important predictor variables**\n",
    "*   **Extrapolation**\n",
    "*   **Missing data**\n",
    "*   **Power and sample size**"
   ]
  },
  {
   "cell_type": "markdown",
   "id": "yOxF7Bqh6z81",
   "metadata": {
    "id": "yOxF7Bqh6z81"
   },
   "source": [
    "### **Error Analysis**"
   ]
  },
  {
   "cell_type": "code",
   "execution_count": 127,
   "id": "zsHLdKYfa1Ah",
   "metadata": {
    "colab": {
     "base_uri": "https://localhost:8080/",
     "height": 143
    },
    "id": "zsHLdKYfa1Ah",
    "outputId": "64475070-5328-45d6-9416-0fe297202cc4"
   },
   "outputs": [
    {
     "data": {
      "text/html": [
       "<div>\n",
       "<style scoped>\n",
       "    .dataframe tbody tr th:only-of-type {\n",
       "        vertical-align: middle;\n",
       "    }\n",
       "\n",
       "    .dataframe tbody tr th {\n",
       "        vertical-align: top;\n",
       "    }\n",
       "\n",
       "    .dataframe thead th {\n",
       "        text-align: right;\n",
       "    }\n",
       "</style>\n",
       "<table border=\"1\" class=\"dataframe\">\n",
       "  <thead>\n",
       "    <tr style=\"text-align: right;\">\n",
       "      <th></th>\n",
       "      <th>LinRegError</th>\n",
       "      <th>RidgeError</th>\n",
       "      <th>LassoError</th>\n",
       "      <th>PolyError</th>\n",
       "    </tr>\n",
       "  </thead>\n",
       "  <tbody>\n",
       "    <tr>\n",
       "      <th>MAE</th>\n",
       "      <td>29.771</td>\n",
       "      <td>29.770</td>\n",
       "      <td>30.308</td>\n",
       "      <td>30.308</td>\n",
       "    </tr>\n",
       "    <tr>\n",
       "      <th>MSE</th>\n",
       "      <td>1726.927</td>\n",
       "      <td>1726.921</td>\n",
       "      <td>1794.723</td>\n",
       "      <td>1794.723</td>\n",
       "    </tr>\n",
       "    <tr>\n",
       "      <th>RMSE</th>\n",
       "      <td>41.556</td>\n",
       "      <td>41.556</td>\n",
       "      <td>42.364</td>\n",
       "      <td>42.364</td>\n",
       "    </tr>\n",
       "  </tbody>\n",
       "</table>\n",
       "</div>"
      ],
      "text/plain": [
       "      LinRegError  RidgeError  LassoError  PolyError\n",
       "MAE        29.771      29.770      30.308     30.308\n",
       "MSE      1726.927    1726.921    1794.723   1794.723\n",
       "RMSE       41.556      41.556      42.364     42.364"
      ]
     },
     "execution_count": 127,
     "metadata": {},
     "output_type": "execute_result"
    }
   ],
   "source": [
    "## Observation/Conclusion for This Task\n",
    "### Error Analysis\n",
    "pd.concat([error_lin_reg, error_rg, error_ls, error_poly], axis = 1)\n"
   ]
  },
  {
   "cell_type": "code",
   "execution_count": 128,
   "id": "a8JmqWpvAT6e",
   "metadata": {
    "colab": {
     "base_uri": "https://localhost:8080/",
     "height": 81
    },
    "id": "a8JmqWpvAT6e",
    "outputId": "02b23a9f-0e76-4e2b-b40c-839949830801"
   },
   "outputs": [
    {
     "data": {
      "text/html": [
       "<div>\n",
       "<style scoped>\n",
       "    .dataframe tbody tr th:only-of-type {\n",
       "        vertical-align: middle;\n",
       "    }\n",
       "\n",
       "    .dataframe tbody tr th {\n",
       "        vertical-align: top;\n",
       "    }\n",
       "\n",
       "    .dataframe thead th {\n",
       "        text-align: right;\n",
       "    }\n",
       "</style>\n",
       "<table border=\"1\" class=\"dataframe\">\n",
       "  <thead>\n",
       "    <tr style=\"text-align: right;\">\n",
       "      <th></th>\n",
       "      <th>LinRegRsq</th>\n",
       "      <th>RidgeRsq</th>\n",
       "      <th>LassoRsq</th>\n",
       "      <th>PolyRsq</th>\n",
       "    </tr>\n",
       "  </thead>\n",
       "  <tbody>\n",
       "    <tr>\n",
       "      <th>R_SQUARE</th>\n",
       "      <td>0.074</td>\n",
       "      <td>0.074</td>\n",
       "      <td>0.038</td>\n",
       "      <td>-1.435</td>\n",
       "    </tr>\n",
       "  </tbody>\n",
       "</table>\n",
       "</div>"
      ],
      "text/plain": [
       "          LinRegRsq  RidgeRsq  LassoRsq  PolyRsq\n",
       "R_SQUARE      0.074     0.074     0.038   -1.435"
      ]
     },
     "execution_count": 128,
     "metadata": {},
     "output_type": "execute_result"
    }
   ],
   "source": [
    "### R_Square Analysis\n",
    "pd.concat([RSQ_lin_reg, RSQ_rg, RSQ_ls, RSQ_poly], axis=1)"
   ]
  },
  {
   "cell_type": "markdown",
   "id": "3iFjQHsXaGF1",
   "metadata": {
    "id": "3iFjQHsXaGF1"
   },
   "source": [
    "### **Error Analysis**\n",
    "#### explain where do you think the errors come from and why? Do you have any possible solution to improve the model performance?\n",
    "\n",
    "There are following primary metrics used to evaluate linear models. These are: Mean absolute error (MAE), Mean squared \n",
    "\n",
    "*   Mean absolute error (MAE), \n",
    "*   Mean squared error (MSE)\n",
    "*   Root mean squared error (RMSE)\n",
    "*   R-squared\n",
    "\n",
    "> MAE: The easiest to understand. Represents average error\n",
    "\n",
    "> MSE: Similar to MAE but noise is exaggerated and larger errors are “punished”. It is harder to interpret than MAE as it’s not in base units, however, it is generally more popular.\n",
    "\n",
    "> RMSE: Most popular metric, similar to MSE, however, the result is square rooted to make it more interpretable as it’s in base units. It is recommended that RMSE be used as the primary metric to interpret your model. \n",
    "\n",
    "**An error term (RMSE)  is a residual variable that accounts for a lack of perfect goodness of fit.**\n",
    "\n",
    "> R-squared evaluates the scatter of the data points around the fitted regression line. It is also called the coefficient of determination, or the coefficient of multiple determination for multiple regression. For the same data set, higher R-squared values represent smaller differences between the observed data and the fitted values. **R-squared is the percentage of the dependent variable variation that a linear model explains.**\n",
    "\n",
    " R^2 = {Variance explained by the model}/{Total variance}\n",
    "**From above analysis, about stock price prediction linear model, we may see the model explains only 7.4 %, 7.4 % and 4 % of the stock price variation with linear regression, Ridge Regression and Lasso Regression model techniques respectively.**\n",
    "\n",
    "Once we have error metrics, we may come to know **which X’s have minimal impacts on y. Such input variables do not explain much in variation in target variable, they just create noise / bais and error in target variable. Removing some of these input features may result in an increased accuracy of the model.**\n",
    "\n",
    "So, We **begin a process of trial and error**, where the process is started over again, until a satisfactory model is produced. There are many other ways to improve Accuracy reduce Errors like :\n",
    "1. Check wether the **regression dataset Columns/Features as are Linear or Non-Linear** as RMSE would be pretty high for Non-Linear data.\n",
    "\n",
    "2. **Removing or Imputing outliers** with mean or median might help reduce errors . Box-plots for each column might help find outliers.\n",
    "\n",
    "3. **Coefficients must be scaled to the same unit of measure to retrieve feature importance.** Scaling them with the standard-deviation of the feature is a useful proxy.\n",
    "\n",
    "4. Coefficients in multivariate linear models represent the dependency between a given feature and the target, conditional on the other features. Correlated features induce instabilities in the coefficients of linear models and their effects cannot be well teased apart. Different linear models respond differently to feature correlation and coefficients could significantly vary from one another. **Inspecting coefficients across the folds of a cross-validation loop gives an idea of their stability**\n"
   ]
  }
 ],
 "metadata": {
  "colab": {
   "collapsed_sections": [],
   "name": "Group_Project_Stock.ipynb",
   "provenance": []
  },
  "kernelspec": {
   "display_name": "Python 3 (ipykernel)",
   "language": "python",
   "name": "python3"
  },
  "language_info": {
   "codemirror_mode": {
    "name": "ipython",
    "version": 3
   },
   "file_extension": ".py",
   "mimetype": "text/x-python",
   "name": "python",
   "nbconvert_exporter": "python",
   "pygments_lexer": "ipython3",
   "version": "3.9.7"
  }
 },
 "nbformat": 4,
 "nbformat_minor": 5
}
